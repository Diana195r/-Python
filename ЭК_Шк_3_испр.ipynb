{
 "cells": [
  {
   "cell_type": "markdown",
   "id": "a00aa0a4-1d42-4f00-8143-2457a23253cf",
   "metadata": {},
   "source": [
    "# Массивы в Python"
   ]
  },
  {
   "cell_type": "markdown",
   "id": "fd10aad9-77a3-4803-8ffc-672f54e2c2cd",
   "metadata": {},
   "source": [
    "\n",
    "Часто для работы с множеством однотипных данных оказывается удобным использовать массивы. Например, можно создать массив для хранения списка школьников, обучающихся в одном классе. Вместо создания переменных для каждого школьника, например Школьник1, Школьник2 и т.д., достаточно создать один массив, где каждой фамилии из списка будет присвоен порядковый номер. Таким образом, можно дать следующее определение.\n",
    "    \n",
    "**Массив** – структурированный тип данных, состоящий из фиксированного числа элементов одного типа.\n",
    "\n",
    "| Номер элемента массива | 0|1|2|3|4|5|6|7|\n",
    "|--|---------------|--|--|--|---|---|--|--|\n",
    "|Значение|   13.65|   -0.95 |   16.78 |    8.09| -11.76 |9.07| 5.13 | -25.64|\n",
    "\n",
    "Массив в таблице имеет 8 элементов, каждый элемент сохраняет число вещественного типа. Элементы в массиве пронумерованы. Нумерация массивов начинается с **нуля**. Такого рода массив, представляющий собой список данных одного и того же типа, называют простым или одномерным массивом. Для доступа к данным, хранящимся в определенном элементе массива, необходимо указать имя массива и порядковый номер этого элемента, называемый **индексом**."
   ]
  },
  {
   "cell_type": "markdown",
   "id": "23044bcb-51dd-4ce9-8882-801f188ba4c4",
   "metadata": {},
   "source": [
    "Для работы с массивами понадобится модуль **numpy**. Существует несколько способов создания массивов, рассмотрим их последовательно."
   ]
  },
  {
   "cell_type": "markdown",
   "id": "57abeabd-8458-4305-b1c3-22b8b1d33d43",
   "metadata": {},
   "source": [
    "**Создание массива с помощью списка**\n",
    "\n",
    "Массив (список) можно создать перечислением элементов\n",
    "через запятую в квадратных скобках."
   ]
  },
  {
   "cell_type": "code",
   "execution_count": 40,
   "id": "f56aefb6-8b6c-43e1-9128-8111533d4e75",
   "metadata": {},
   "outputs": [
    {
     "name": "stdout",
     "output_type": "stream",
     "text": [
      "<class 'list'>\n"
     ]
    }
   ],
   "source": [
    "A = [1, 3, 4, 23, 5]\n",
    "print( type(A) )"
   ]
  },
  {
   "cell_type": "markdown",
   "id": "5b6ad818-86fc-4b5e-b589-42b1e47aaab7",
   "metadata": {},
   "source": [
    "**Преобразование списка в массив**\n",
    "\n",
    "Можно создать массив из списка с помощью функции **array**"
   ]
  },
  {
   "cell_type": "code",
   "execution_count": 41,
   "id": "87a1bf7c-9bb5-4a8a-8f58-31bb46db40f9",
   "metadata": {},
   "outputs": [
    {
     "name": "stdout",
     "output_type": "stream",
     "text": [
      "[1 2 3 4 7 8 2 5]\n",
      "<class 'numpy.ndarray'>\n",
      "1 7\n"
     ]
    }
   ],
   "source": [
    "from numpy import *\n",
    "#A=array([0.6,7.5,7.8,-16,97.67,-12.1])\n",
    "a=array([1,2,3,4,7,8,2,5,])\n",
    "print(a)\n",
    "print(type(a))\n",
    "print(a[0],a[4])"
   ]
  },
  {
   "cell_type": "markdown",
   "id": "afe4bef6-a4fa-418e-a491-f5658a0d0008",
   "metadata": {},
   "source": [
    "**ndarray** – это тип (а вообще говоря объект) многомерных массивов из модуля numpy."
   ]
  },
  {
   "cell_type": "markdown",
   "id": "12b0873d-d2e9-4343-b2a4-014eef35e41a",
   "metadata": {},
   "source": [
    "**Создание массива из диапазона**\n",
    "\n",
    "Диапазон – это конечно тоже список, однако при формировании самого диапазона есть особенности, которые заслуживают рассмотрения.\n",
    "Первый пример: создание массива из диапазона, созданного с помощью функции **range.**\n",
    "Длина массива (количество элементов в нём) определяется с помощью функции **len.**"
   ]
  },
  {
   "cell_type": "code",
   "execution_count": 42,
   "id": "8ee92842-3965-4c0b-b32e-0cfc40d2f09b",
   "metadata": {
    "scrolled": true
   },
   "outputs": [
    {
     "name": "stdout",
     "output_type": "stream",
     "text": [
      "21\n",
      "[ 0  1  2  3  4  5  6  7  8  9 10 11 12 13 14 15 16 17 18 19 20]\n",
      "20\n",
      "[  1  11  21  31  41  51  61  71  81  91 101 111 121 131 141 151 161 171\n",
      " 181 191]\n",
      "10\n",
      "[11 12 13 14 15 16 17 18 19 20]\n"
     ]
    }
   ],
   "source": [
    "a=array(range(21))\n",
    "print(len(a))\n",
    "print(a)\n",
    "b=array(range(1,201,10))\n",
    "print(len(b))\n",
    "print(b)\n",
    "q=array(range(11,21))\n",
    "print(len(q))\n",
    "print(q)"
   ]
  },
  {
   "cell_type": "markdown",
   "id": "e0729641-be8f-4505-993e-548a53274edd",
   "metadata": {},
   "source": [
    "В **numpy** есть функция arange, позволяющая сразу создать диапазон вещественных чисел. Все её аргументы вещественные, и как следствие генерируемый с помощью array массив состоит из вещественных чисел. Пример"
   ]
  },
  {
   "cell_type": "code",
   "execution_count": 43,
   "id": "fc94ee2f-7945-4511-9ece-b499ed7a4937",
   "metadata": {},
   "outputs": [
    {
     "name": "stdout",
     "output_type": "stream",
     "text": [
      " -6.28\t  0.00\t  1.00\t  0.84\t\n",
      " -5.24\t  0.87\t  0.50\t  0.48\t\n",
      " -4.19\t  0.87\t -0.50\t -0.48\t\n",
      " -3.14\t  0.00\t -1.00\t -0.84\t\n",
      " -2.09\t -0.87\t -0.50\t -0.48\t\n",
      " -1.05\t -0.87\t  0.50\t  0.48\t\n",
      " -0.00\t -0.00\t  1.00\t  0.84\t\n",
      "  1.05\t  0.87\t  0.50\t  0.48\t\n",
      "  2.09\t  0.87\t -0.50\t -0.48\t\n",
      "  3.14\t  0.00\t -1.00\t -0.84\t\n",
      "  4.19\t -0.87\t -0.50\t -0.48\t\n",
      "  5.24\t -0.87\t  0.50\t  0.48\t\n"
     ]
    }
   ],
   "source": [
    "import numpy\n",
    "import sys #библиотека sys для форматированного вывода вещественных чисел\n",
    "    \n",
    "x=array(arange(-2*pi,2*pi,pi/3))\n",
    "y=sin(x)\n",
    "z=cos(x)\n",
    "u=sin(cos(x))\n",
    "for i in range(len(x)):\n",
    "    sys.stdout.write (\"%6.2f\\t\" %x[i]);\n",
    "    sys.stdout.write (\"%6.2f\\t\" %y[i]);\n",
    "    sys.stdout.write (\"%6.2f\\t\" %z[i]);\n",
    "    sys.stdout.write (\"%6.2f\\t\" %u[i]);\n",
    "    sys.stdout.write('\\n')\n",
    "    \n",
    "  "
   ]
  },
  {
   "cell_type": "markdown",
   "id": "18bfd5f3-ee88-4bf4-8cb3-66e8db76137f",
   "metadata": {},
   "source": [
    "Таким образом мы имеем функции range и arange, позволяющие создавать массивы диапазоны из целых и вещественных чисел соответственно.\n",
    "\n",
    "Альтернативой им является функция **linspace**.\n",
    "```\n",
    "linspace(xn, xk, n, flag=True),\n",
    "```\n",
    "здесь\n",
    "xn – начальное значение диапазона,\n",
    "\n",
    "xk – конечное значение диапазона,\n",
    "\n",
    "n – количество элементов в диапазоне,\n",
    "\n",
    "flag – логическая переменная, определяющая включать или нет конечное значение в диапазон по умолчанию включать (True).\n",
    "\n"
   ]
  },
  {
   "cell_type": "code",
   "execution_count": 44,
   "id": "2efddcc0-58a5-4d16-a236-e7f3f1e79f29",
   "metadata": {},
   "outputs": [
    {
     "name": "stdout",
     "output_type": "stream",
     "text": [
      "массив а:\n",
      "[0.  0.1 0.2 0.3 0.4 0.5 0.6 0.7 0.8 0.9 1.  1.1 1.2 1.3 1.4 1.5 1.6 1.7\n",
      " 1.8 1.9]\n",
      "массив b:\n",
      "[0.  0.2 0.4 0.6 0.8 1.  1.2 1.4 1.6 1.8 2. ]\n",
      "массив c:\n",
      "[0.         0.18181818 0.36363636 0.54545455 0.72727273 0.90909091\n",
      " 1.09090909 1.27272727 1.45454545 1.63636364 1.81818182]\n"
     ]
    }
   ],
   "source": [
    "print('массив а:');\n",
    "a=arange(0,2,0.1);\n",
    "print(a);\n",
    "print('массив b:');\n",
    "b=linspace(0,2,11);\n",
    "print(b);\n",
    "print('массив c:');\n",
    "c=linspace(0,2,11,False)\n",
    "print(c);"
   ]
  },
  {
   "cell_type": "code",
   "execution_count": 45,
   "id": "f2e89ad3-36c1-4cb1-bdd5-dda62381c905",
   "metadata": {},
   "outputs": [
    {
     "name": "stdout",
     "output_type": "stream",
     "text": [
      "[0.  0.1 0.2 0.3 0.4 0.5 0.6 0.7 0.8 0.9 1.  1.1 1.2 1.3 1.4 1.5 1.6 1.7\n",
      " 1.8 1.9]\n",
      "[0.  0.1 0.2 0.3 0.4]\n",
      "[0.  0.2 0.4 0.6 0.8 1.  1.2 1.4 1.6 1.8 2. ]\n",
      "[0.  0.6 1.2 1.8]\n",
      "[0.         0.18181818 0.36363636 0.54545455 0.72727273 0.90909091\n",
      " 1.09090909 1.27272727 1.45454545 1.63636364 1.81818182]\n",
      "[0.         0.54545455 1.09090909]\n"
     ]
    }
   ],
   "source": [
    "#Использование срезов в массивах рассмотрим на примере.\n",
    "#Срез – это массив, образованный из другого.\n",
    "a=arange(0,2,0.1);\n",
    "print(a);\n",
    "# В массив a1 включаются элементы массива a с 0 по 4\n",
    "a1=a[0:5]\n",
    "print(a1)\n",
    "b=linspace(0,2,11);\n",
    "print(b);\n",
    "# В массив b1 включаются 0, 3, 6, 9 элементы массива b\n",
    "b1=b[0:len(b):3]\n",
    "print(b1)\n",
    "c=linspace(0,2,11,False)\n",
    "print(c);\n",
    "# Вывод 0, 3, 6 элементов массива c\n",
    "print(c[0:8:3]);"
   ]
  },
  {
   "cell_type": "markdown",
   "id": "2a67c258-6821-4fca-bcdd-fed4eb390c7f",
   "metadata": {},
   "source": [
    "**Ввод массива с клавиатуры**\n",
    "\n",
    "Иногда небольшие массивы вводятся с клавиатуры. В простейшем случае мы просто строим цикл, который выполняет оператор ввода отдельно для каждого элемента массива:\n"
   ]
  },
  {
   "cell_type": "code",
   "execution_count": null,
   "id": "a7cfa38f-c661-4bd2-b07e-02c6d4de3782",
   "metadata": {},
   "outputs": [],
   "source": [
    "n = int(input(\"Введите размер массива: \")) # Запрос на ввод размера массива \n",
    "arr = [] # Создание пустого массива \n",
    "\n",
    "for i in range(n): \n",
    "    x = int(input(\"Введите элемент массива: \")) # Запрос на ввод элемента массива \n",
    "    arr.append(x) # Добавление элемента в массив \n",
    "\n",
    "print(\"Массив:\", arr) # Вывод массива на экран "
   ]
  },
  {
   "cell_type": "markdown",
   "id": "445073bc-7e95-4fd3-9207-3ba16260c952",
   "metadata": {},
   "source": [
    "**Заполнение массива случайными числами**\n",
    "\n",
    "Иногда нужно заполнить массив случайными числами\n",
    "\n",
    "random.random((rows, column))\n",
    "\n",
    "или\n",
    "\n",
    "random.random\n",
    "\n",
    "Функция возвращает массив с заданным количеством измерений, где каждый элемент генерируется случайным образом в диапазоне (0,1).\n"
   ]
  },
  {
   "cell_type": "code",
   "execution_count": 37,
   "id": "bd9d6df0-9237-48e7-8862-e0ebd9fec5b2",
   "metadata": {},
   "outputs": [
    {
     "name": "stdout",
     "output_type": "stream",
     "text": [
      "  0.66  0.64  0.52  0.31  0.82  0.04  0.56  0.18  0.98  0.53\n"
     ]
    }
   ],
   "source": [
    "import sys\n",
    "import numpy\n",
    "n=1\n",
    "m=10\n",
    "a=numpy.random.random((n,m))\n",
    "for i in range(0,n):\n",
    "    for j in range(0,m):  \n",
    "        sys.stdout.write (\"%6.2f\" %a[i][j]);\n",
    "    sys.stdout.write('\\n')"
   ]
  },
  {
   "cell_type": "markdown",
   "id": "49bd4f0c-7d4b-401a-a773-629a746c8a4f",
   "metadata": {},
   "source": [
    "**Функции для создания масивов**\n",
    "\n",
    "1. **zeros((rows, columns), dtype)** или **random.zeros(n)** - функция создаст массив нулевых значений с заданным количеством измерений\n",
    "1. **ones((rows,columns), dtype)**  или **random.ones(n)** - функция создаст массив единиц с заданным количеством измерений\n",
    "1. **empty((rows,columns))** или **random.empty(n)** функция создаст массив, содержимое которого будет пустым."
   ]
  },
  {
   "cell_type": "code",
   "execution_count": 39,
   "id": "466a14f2-fcc2-49a1-ba03-29de3c3055d5",
   "metadata": {},
   "outputs": [
    {
     "name": "stdout",
     "output_type": "stream",
     "text": [
      "[[0. 0. 0. 0. 0. 0. 0.]\n",
      " [0. 0. 0. 0. 0. 0. 0.]\n",
      " [0. 0. 0. 0. 0. 0. 0.]\n",
      " [0. 0. 0. 0. 0. 0. 0.]\n",
      " [0. 0. 0. 0. 0. 0. 0.]]\n"
     ]
    }
   ],
   "source": [
    "import numpy \n",
    "a=numpy.zeros((5,7))\n",
    "print(a)"
   ]
  },
  {
   "cell_type": "code",
   "execution_count": 41,
   "id": "a0d27d3e-b61c-47b1-9bbd-f016e315eb1e",
   "metadata": {},
   "outputs": [
    {
     "name": "stdout",
     "output_type": "stream",
     "text": [
      "[[1. 1. 1. 1. 1. 1. 1.]\n",
      " [1. 1. 1. 1. 1. 1. 1.]\n",
      " [1. 1. 1. 1. 1. 1. 1.]\n",
      " [1. 1. 1. 1. 1. 1. 1.]\n",
      " [1. 1. 1. 1. 1. 1. 1.]]\n"
     ]
    }
   ],
   "source": [
    "import numpy \n",
    "a=numpy.ones((5,7))\n",
    "print(a)"
   ]
  },
  {
   "cell_type": "code",
   "execution_count": 43,
   "id": "3998914c-8260-44e7-af1a-fb6b5c739fac",
   "metadata": {},
   "outputs": [
    {
     "data": {
      "text/plain": [
       "array([[1., 1., 1., 1., 1., 1., 1., 1., 1., 1., 1., 1., 1., 1., 1.]])"
      ]
     },
     "execution_count": 43,
     "metadata": {},
     "output_type": "execute_result"
    }
   ],
   "source": [
    "numpy.ones((1,15))"
   ]
  },
  {
   "cell_type": "code",
   "execution_count": 40,
   "id": "11517df0-0d06-4cba-ae1d-a70ffc82d70a",
   "metadata": {},
   "outputs": [
    {
     "data": {
      "text/plain": [
       "array([[4.68322078e-310, 0.00000000e+000, 0.00000000e+000,\n",
       "        0.00000000e+000, 0.00000000e+000],\n",
       "       [0.00000000e+000, 0.00000000e+000, 0.00000000e+000,\n",
       "        0.00000000e+000, 0.00000000e+000],\n",
       "       [0.00000000e+000, 0.00000000e+000, 0.00000000e+000,\n",
       "        0.00000000e+000, 2.66090405e-312]])"
      ]
     },
     "execution_count": 40,
     "metadata": {},
     "output_type": "execute_result"
    }
   ],
   "source": [
    "numpy.empty((3,5))"
   ]
  },
  {
   "cell_type": "code",
   "execution_count": 39,
   "id": "bbc24c1c-43cc-429f-97d2-e4edffab683f",
   "metadata": {},
   "outputs": [
    {
     "name": "stdin",
     "output_type": "stream",
     "text": [
      "n= 8\n"
     ]
    },
    {
     "name": "stdout",
     "output_type": "stream",
     "text": [
      "[0 0 0 0 0 0 0 0]\n"
     ]
    }
   ],
   "source": [
    "#Создаём массив и запоняем нулями\n",
    "import numpy\n",
    "n=int(input(\"n=\"))\n",
    "b = full(n, 0)\n",
    "print(b)"
   ]
  },
  {
   "cell_type": "markdown",
   "id": "53460e50-86dd-4923-84be-f68957bf3d79",
   "metadata": {},
   "source": [
    "## Алгоритмы обратотки массивов"
   ]
  },
  {
   "cell_type": "markdown",
   "id": "1fc4ab92-d59b-450e-b4bf-43cd6fe6a62a",
   "metadata": {},
   "source": [
    "Python унаследовал из Фортрана операции над массивами.\n",
    "*Фортра́н (англ. Fortran) — первый язык программирования высокого уровня, получивший практическое применение, имеющий транслятор и испытавший дальнейшее развитие. Создан в период с 1954 по 1957 год группой программистов под руководством Джона Бэкуса в корпорации IBM.*\n",
    "\n",
    "Над массивами (срез – это тоже массив) одинакового размера определены поэлементные операции сложения, вычитания, умножения и деления, а также прибавлять и вычитать к массиву число, умножать и делить массивы на число, а также применять встроенные функции над массивом целиком.\n",
    "\n"
   ]
  },
  {
   "cell_type": "markdown",
   "id": "53d3f53e-7fab-478a-a655-82c4ff8d92ad",
   "metadata": {},
   "source": [
    "**Сумма элементов массива**"
   ]
  },
  {
   "cell_type": "markdown",
   "id": "03462103-9b3e-49fb-88bd-a99e26036b65",
   "metadata": {},
   "source": [
    "Напишите программу, которая в последовательности натуральных чисел определяет сумму чисел, кратных 3 и оканчивающихся на 1. Программа получает на вход количество чисел в последовательности, а затем сами числа. В последовательности всегда имеется число, кратное 3 и оканчивающееся на 1. Количество чисел не превышает 100. Введённые числа не превышают 300. Программа должна вывести одно число  — сумму чисел, кратных 3 и оканчивающихся на 1."
   ]
  },
  {
   "cell_type": "markdown",
   "id": "f8fd5752-6b33-4c08-8c51-aa9b6ad4d421",
   "metadata": {},
   "source": [
    "Мы уже знакомы с программой, которая в последовательности натуральных чисел определяет сумму чисел. А теперь теперь найдем сумму чисел в массиве.\n"
   ]
  },
  {
   "cell_type": "markdown",
   "id": "72d22a84-7b2b-4708-bfdb-fb81c0d10cfd",
   "metadata": {},
   "source": [
    "**Задача**\n",
    "Напишите программу, которая в массиве натуральных чисел определяет их сумму. Программа получает на вход массив чисел. "
   ]
  },
  {
   "cell_type": "code",
   "execution_count": 71,
   "id": "a84d8a49-0205-4cfd-9279-1c7a30843498",
   "metadata": {},
   "outputs": [
    {
     "name": "stdout",
     "output_type": "stream",
     "text": [
      "[ 1  4  7 10 13 16 19]  \n",
      "\n",
      "70\n"
     ]
    }
   ],
   "source": [
    "import numpy\n",
    "b=arange(1,21,3)\n",
    "print(b,' \\n')\n",
    "\n",
    "summa = 0\n",
    "for i in range(len(b)):\n",
    "    summa += b[i]\n",
    "    \n",
    "print(summa)\n"
   ]
  },
  {
   "cell_type": "markdown",
   "id": "3847c89b-721e-4de4-b554-253c2f26f649",
   "metadata": {},
   "source": [
    "В языке Python есть встроенная функция sum, которая сразу считает сумму элементов массива, так что задача решается в одну строку.\n",
    "print( sum(A) )"
   ]
  },
  {
   "cell_type": "code",
   "execution_count": 82,
   "id": "c742a187-d39c-4c25-ae32-a9eee0ea3a04",
   "metadata": {},
   "outputs": [
    {
     "name": "stdout",
     "output_type": "stream",
     "text": [
      "[ 1  4  7 10 13 16 19]  \n",
      "\n",
      "70\n"
     ]
    }
   ],
   "source": [
    "import numpy\n",
    "b=arange(1,21,3)\n",
    "print(b,' \\n')\n",
    "\n",
    "summa = 0\n",
    "for i in range(len(b)):\n",
    "    summa += b[i]\n",
    "    \n",
    "print(summa)\n"
   ]
  },
  {
   "cell_type": "markdown",
   "id": "84ea1042-6a64-4369-acaa-45fb1ca7f2fd",
   "metadata": {},
   "source": [
    "#Вычислите какое значение summa выведит программа. Придумайте условие задачи к данной программе.\n",
    "import numpy\n",
    "A=arange(1,21,1)\n",
    "print(A,' \\n')\n",
    "summa = 0\n",
    "for x in A:\n",
    "    if x % 2 == 0:\n",
    "        summa += x\n",
    "print( summa )"
   ]
  },
  {
   "cell_type": "markdown",
   "id": "4d2fe063-714a-4932-90fd-e79ba041e5af",
   "metadata": {},
   "source": [
    "**Подсчёт элементов массива, удовлетворяющих условию**\n",
    "\n",
    "Во многих задачах нужно найти в массиве все элементы, удовлетворяющие заданному условию, и как-то их обработать, например, подсчитать их количество.\n",
    "\n",
    "Для подсчёта элементов используется переменная-счётчик, назовём её **k.** Перед началом цикла в счётчик записывается ноль (ни одного нужного элемента не найдено). Если на очередной итерации цикла найден новый подходящий элемент,значение счётчика увеличивается на единицу.\n",
    "\n",
    "Подсчитаем количество элементов массива с чётными значениями."
   ]
  },
  {
   "cell_type": "code",
   "execution_count": 87,
   "id": "530c0e62-e745-4b3c-b646-ee0a9b2390e6",
   "metadata": {},
   "outputs": [
    {
     "name": "stdout",
     "output_type": "stream",
     "text": [
      "[ 1  2  3  4  5  6  7  8  9 10 11 12 13 14 15 16 17 18 19 20]  \n",
      "\n",
      "10\n"
     ]
    }
   ],
   "source": [
    "import numpy\n",
    "b=arange(1,21,1)\n",
    "print(b,' \\n')\n",
    "\n",
    "k = 0\n",
    "for i in range(len(b)):\n",
    "    if A[i] % 2 == 0:\n",
    "        k += 1 # увеличить счётчик\n",
    "print( k )"
   ]
  },
  {
   "cell_type": "markdown",
   "id": "9b3e4b50-8939-4bbd-918c-12834669cee9",
   "metadata": {},
   "source": [
    "**Поиск максимального/минимального элемента в массиве**\n",
    "\n",
    "Представьте себе, что вы по очереди заходите в N комнат, в каждой из которых лежит арбуз. Вес арбузов такой, что вы можете унести только один арбуз. Возвращаться в ту комнату, где вы уже побывали, нельзя. Как выбрать самый большой арбуз?\n",
    "\n",
    "Итак, вы вошли в первую комнату. По-видимому, нужно забрать лежащий в ней арбуз. Действительно, вдруг он самый большой? А вернуться сюда вы уже не сможете. С этим первым арбузом идёте во вторую комнату и сравниваете, какой арбуз больше – тот, который у вас в руках или новый. Если новый больше, берёте его, а старый оставляете во второй комнате. Теперь в любом случае у вас в руках оказывается самый большой\n",
    "арбуз из первых двух комнат. Действуя так же и в остальных комнатах, вы гарантированно выберете самый большой арбуз из всех.\n",
    "\n",
    "На этой идее основан и поиск максимального элемента в массиве. Для хранения максимального элемента выделим в\n",
    "памяти целочисленную переменную M. Будем в цикле просматривать все элементы массива один за другим. Если очередной элемент массива больше, чем максимальный из предыдущих (находящийся в переменной M), запомним новое значение максимального элемента в M.\n"
   ]
  },
  {
   "cell_type": "code",
   "execution_count": 88,
   "id": "7ceaabad-9d88-49d4-8def-20570a33a9be",
   "metadata": {},
   "outputs": [
    {
     "name": "stdout",
     "output_type": "stream",
     "text": [
      "[  0.6    7.5    7.8  -16.    97.67 -12.1 ]\n",
      "97.67\n"
     ]
    }
   ],
   "source": [
    "#Пусть требуется найти максимальное из значений элементов массива A\n",
    "from numpy import *\n",
    "A=array([0.6,7.5,7.8,-16,97.67,-12.1])\n",
    "print(A)\n",
    "M=0\n",
    "for i in range(len(A)):\n",
    "    if A[i] > M:\n",
    "        M = A[i]\n",
    "print( M )"
   ]
  },
  {
   "cell_type": "markdown",
   "id": "fd5812e8-f7ea-4aaf-bcff-fd9678df0c69",
   "metadata": {},
   "source": [
    "Всегда ли это будет правильно?"
   ]
  },
  {
   "cell_type": "code",
   "execution_count": 89,
   "id": "e968865c-1e51-455d-b679-bc5a574e5958",
   "metadata": {},
   "outputs": [
    {
     "name": "stdout",
     "output_type": "stream",
     "text": [
      "[  0.6    7.5    7.8  -16.    97.67 -12.1 ]\n",
      "97.67\n"
     ]
    }
   ],
   "source": [
    "from numpy import *\n",
    "A=array([0.6,7.5,7.8,-16,97.67,-12.1])\n",
    "print(A)\n",
    "M=A[0]\n",
    "for i in range(len(A)):\n",
    "    if A[i] > M:\n",
    "        M = A[i]\n",
    "print( M )"
   ]
  },
  {
   "cell_type": "markdown",
   "id": "1c772340-6eea-45fb-9e16-0b9078fc60cd",
   "metadata": {},
   "source": [
    "Теперь найдём индекс максимального элемента. Казалось бы, необходимо ввести еще одну переменную nMax для хранения номера. Сначала в неё нужно записать 0 (считаем первый элемент максимальным) и затем, когда нашли новый максимальный элемент, запоминать его значение в переменной M, а индекс – в переменной nMax:"
   ]
  },
  {
   "cell_type": "code",
   "execution_count": 90,
   "id": "9d0e87b7-1d3b-4ade-bba9-79c684dc179f",
   "metadata": {},
   "outputs": [
    {
     "name": "stdout",
     "output_type": "stream",
     "text": [
      "[  0.6    7.5    7.8  -16.    97.67 -12.1 ]\n",
      "A[4]=97.67\n"
     ]
    }
   ],
   "source": [
    "from numpy import *\n",
    "A=array([0.6,7.5,7.8,-16,97.67,-12.1])\n",
    "print(A)\n",
    "M=A[0]\n",
    "nMax = 0\n",
    "for i in range(len(A)):\n",
    "    if A[i] > M:\n",
    "        M = A[i]\n",
    "        nMax = i\n",
    "print( f\"A[{nMax}]={M}\" )\n"
   ]
  },
  {
   "cell_type": "markdown",
   "id": "721d1fdd-a850-4140-87f0-b6b97b2ce03d",
   "metadata": {},
   "source": [
    "Для поиска максимума можно использовать и встроенные функции Python: сначала найти максимальный элемент, а потом его индекс с помощью функции **index**"
   ]
  },
  {
   "cell_type": "code",
   "execution_count": 96,
   "id": "187447c8-ea79-4afb-932d-63968845a7c2",
   "metadata": {},
   "outputs": [
    {
     "name": "stdout",
     "output_type": "stream",
     "text": [
      "[0.6, 177.5, 7.8, -16, 97.67, -12.1]\n",
      "A[1]=177.5\n"
     ]
    }
   ],
   "source": [
    "from numpy import *\n",
    "A=[0.6,177.5,7.8,-16,97.67,-12.1]\n",
    "print(A)\n",
    "\n",
    "M = max(A)\n",
    "nMax = A.index(M)\n",
    "\n",
    "print( f\"A[{nMax}]={M}\" )"
   ]
  },
  {
   "cell_type": "markdown",
   "id": "0c35bd79-838f-4200-b087-2f0a859716b0",
   "metadata": {},
   "source": [
    "**Библиотека numpy содержит встроенные функции над массивами.**\n",
    "1. **sum()** - функция вернет сумму всех элементов.\n",
    "1. **min()** - функция вернет элемент с минимальным значением.\n",
    "1. **max()** - функция вернет элемент с максимальным значением."
   ]
  },
  {
   "cell_type": "markdown",
   "id": "2a97b2e1-a195-47a4-8fab-a2295dd5edce",
   "metadata": {},
   "source": [
    "**Задача**\n",
    "Найдите минимальный элемент массива A=[0.6,177.5,7.8,-16,97.67,-12.1], а потом его индекс."
   ]
  },
  {
   "cell_type": "code",
   "execution_count": null,
   "id": "f582d8fd-dec9-4241-9a50-57715cbcc8c0",
   "metadata": {},
   "outputs": [],
   "source": [
    "#ПРЕДПОЛАГАЕМОЕ РЕШЕНИЕ"
   ]
  },
  {
   "cell_type": "markdown",
   "id": "6e0b88d8-9452-4ca2-a6cf-5b58fe37d56d",
   "metadata": {},
   "source": [
    "## Примеры задач"
   ]
  },
  {
   "cell_type": "markdown",
   "id": "ea8d6467-5d50-4717-a43b-507ffd590bba",
   "metadata": {},
   "source": [
    "**Задача 1**\n",
    "\n",
    "Дан список целых чисел. Заменить отрицательные числа на число положительные ‒ на 1, число ноль оставить без изменений."
   ]
  },
  {
   "cell_type": "code",
   "execution_count": null,
   "id": "4dd1061c-a126-41a7-8643-29fd7b30f9f5",
   "metadata": {},
   "outputs": [],
   "source": [
    "#ПРЕДПОЛАГАЕМОЕ РЕШЕНИЕ"
   ]
  },
  {
   "cell_type": "code",
   "execution_count": 31,
   "id": "308e31ad-93d0-40ca-9188-ab069aded6c9",
   "metadata": {},
   "outputs": [
    {
     "name": "stdout",
     "output_type": "stream",
     "text": [
      "[1, -5, 3, 8, 0, 9, -6, 3, -1, 5]\n",
      "[1, -1, 1, 1, 0, 1, -1, 1, -1, 1]\n"
     ]
    }
   ],
   "source": [
    "# решение\n",
    "A = [1, -5, 3, 8, 0, 9, -6, 3, -1, 5]\n",
    "print(A)\n",
    "for i in range(len(A)):\n",
    "    if A[i] > 0:\n",
    "        A[i] = 1\n",
    "    elif A[i] < 0:\n",
    "        A[i] = -1\n",
    "print(A)"
   ]
  },
  {
   "cell_type": "markdown",
   "id": "a9b978a0-5884-4a1d-9d10-f618e17e3003",
   "metadata": {},
   "source": [
    "**Задача 2**\n",
    "\n",
    "Дан список целых чисел. Посчитать сколько в списке содержится положительных,отрицательных и равных нулю элементов"
   ]
  },
  {
   "cell_type": "code",
   "execution_count": null,
   "id": "55b74363-ead4-437d-93a6-9f999b02bcc1",
   "metadata": {},
   "outputs": [],
   "source": [
    "#ПРЕДПОЛАГАЕМОЕ РЕШЕНИЕ"
   ]
  },
  {
   "cell_type": "markdown",
   "id": "495ffb85-34f9-4cbd-871a-0c1b6cf00ed2",
   "metadata": {},
   "source": [
    "**Задача 3**\n",
    "\n",
    "В одномерном массиве найти сумму ряда элементов стоящих между элементами с минимальным и максимальным значениями. Сами минимум и максимум в сумму не включать."
   ]
  },
  {
   "cell_type": "code",
   "execution_count": 34,
   "id": "eb9cda6b-3453-4ebc-8f88-eec4aef5d81b",
   "metadata": {},
   "outputs": [
    {
     "name": "stdout",
     "output_type": "stream",
     "text": [
      "  8 41 17 44  8 19 38  6 27  1\n",
      "1 44\n",
      "98\n"
     ]
    }
   ],
   "source": [
    "from random import random\n",
    "N = 10\n",
    "a = [0]*N\n",
    "for i in range(N):\n",
    "    a[i] = int(random()*50)\n",
    "    print('%3d' % a[i], end='')\n",
    "print()\n",
    "min = 0\n",
    "max = 0\n",
    "for i in range(1, N):\n",
    "    if a[i] < a[min]:\n",
    "        min = i\n",
    "    elif a[i] > a[max]:\n",
    "        max = i\n",
    "print(a[min], a[max])\n",
    "if min > max:\n",
    "    min, max = max, min\n",
    "summa = 0\n",
    "for i in range(min+1, max):\n",
    "    summa += a[i]\n",
    "print(summa)"
   ]
  },
  {
   "cell_type": "markdown",
   "id": "4734d275-0a24-43f9-8592-25bfd7812cd2",
   "metadata": {},
   "source": [
    "**Задача 4**\n",
    "\n",
    "Выполните сортировку списка целых чисел по возрастанию. Используйте метод сортировки выбором."
   ]
  },
  {
   "cell_type": "markdown",
   "id": "bc354cbf-a492-4c22-9304-ecbb4b3e1efd",
   "metadata": {},
   "source": [
    "Алгоритм сортировки выбором заключается в поиске на необработанном срезе массива или списка минимального значения и в дальнейшем обмене этого значения с первым элементом необработанного среза. На следующем шаге необработанный срез уменьшается на один элемент.\n",
    "\n",
    "1. Найти наименьшее значение в списке.\n",
    "2. Записать его в начало списка, а первый элемент - на место, где раньше стоял\n",
    "наименьший.\n",
    "3. Снова найти наименьший элемент в списке. При этом в поиске не участвует первый\n",
    "элемент.\n",
    "4. Второй минимум поместить на второе место списка. Второй элемент при этом\n",
    "перемещается на освободившееся место.\n",
    "5. Продолжать выполнять поиск и обмен, пока не будет достигнут конец списка."
   ]
  },
  {
   "cell_type": "code",
   "execution_count": 39,
   "id": "1ac9a1c7-a491-44f0-b932-80fbdef86a47",
   "metadata": {},
   "outputs": [
    {
     "name": "stdout",
     "output_type": "stream",
     "text": [
      "[24, 64, 19, 96, 2, 38, 71, 84, 65, 79]\n",
      "[2, 19, 24, 38, 64, 65, 71, 79, 84, 96]\n"
     ]
    }
   ],
   "source": [
    " #Заполняем список из 10 элементов\n",
    "# случайными числами от 1 до 99 и\n",
    "# выводим неотсортированный список на экран.\n",
    "from random import randint\n",
    "N = 10\n",
    "arr = []\n",
    "for i in range(N):\n",
    "    arr.append(randint(1, 99))\n",
    "print(arr)\n",
    "\n",
    "# В цикле переменная i хранит индекс ячейки,\n",
    "# в которую записывается минимальный элемент.\n",
    "# Сначала это будет первая ячейка.\n",
    "i = 0\n",
    "# N - 1, так как последний элемент\n",
    "# обменивать уже не надо.\n",
    "while i < N - 1:\n",
    "    # ПОИСК МИНИМУМА\n",
    "    # Сначала надо найти минимальное значение\n",
    "    # на срезе от i до конца списка.\n",
    "    # Переменная m будет хранить индекс ячейки\n",
    "    # с минимальным значением.\n",
    "    # Сначала предполагаем, что\n",
    "    # в ячейке i содержится минимальный элемент.\n",
    "    m = i\n",
    "    # Поиск начинаем с ячейки следующей за i.\n",
    "    j = i + 1\n",
    "    # Пока не дойдем до конца списка,\n",
    "    while j < N:\n",
    "    # будем сравнивать значение ячейки j,\n",
    "    # со значением ячейки m.\n",
    "        if arr[j] < arr[m]:\n",
    "        # Если в j значение меньше, чем в m,\n",
    "        # сохраним в m номер найденного\n",
    "        # на данный момент минимума.\n",
    "            m = j\n",
    "        # Перейдем к следующей ячейке.\n",
    "        j += 1\n",
    "    # ОБМЕН ЗНАЧЕНИЙ\n",
    "    # В ячейку i записывается найденный минимум,\n",
    "    # а значение из ячейки i переносится\n",
    "    # на старое место минимума.\n",
    "    arr[i], arr[m] = arr[m], arr[i]\n",
    "    # ПЕРЕХОД К СЛЕДУЮЩЕЙ НЕОБРАБОТАННОЙ ЯЧЕЙКЕ\n",
    "    i += 1\n",
    "    # Вывод отсортированного списка\n",
    "print(arr)"
   ]
  },
  {
   "cell_type": "markdown",
   "id": "c90b70aa-a767-49c7-90a9-838ea9c54b0c",
   "metadata": {},
   "source": [
    "**Задача 5**\n",
    "\n",
    "Выполните сортировку списка целых чисел по убыванию. Используйте метод сортировки выбором."
   ]
  },
  {
   "cell_type": "code",
   "execution_count": null,
   "id": "0e6b3e56-a67c-4e8d-a943-864606d1f4bd",
   "metadata": {},
   "outputs": [],
   "source": [
    "#ПРЕДПОЛАГАЕМОЕ РЕШЕНИЕ"
   ]
  },
  {
   "cell_type": "markdown",
   "id": "ca655831-72de-4c5f-a6eb-52c9754a8eb6",
   "metadata": {},
   "source": [
    "**Задача 6**\n",
    "  \n",
    "Выполните сортировку списка целых чисел в порядке возрастания. Используйте метод сортировки пузырьком."
   ]
  },
  {
   "cell_type": "markdown",
   "id": "4460ee2a-be35-4f91-94de-ed0e999af611",
   "metadata": {},
   "source": [
    "*Сортировка пузырьком* ‒ это метод сортировки массивов и списков путем последовательного сравнения и обмена соседних элементов, если предшествующий оказывается больше последующего. В процессе выполнения данного алгоритма элементы с большими значениями оказываются в конце списка, а элементы с меньшими значениями постепенно перемещаются по направлению к началу списка. Образно говоря, тяжелые элементы падают на дно, а легкие медленно всплывают подобно пузырькам воздуха.\n",
    "\n",
    "В сортировке методом пузырька количество итераций внешнего цикла определяется длинной списка минус единица, так как когда второй элемент становится на свое место, то первый уже однозначно минимальный и находится на своем месте.\n",
    "\n",
    "Количество итераций внутреннего цикла зависит от номера итерации внешнего цикла, так как конец списка уже отсортирован, и выполнять проход по этим элементам смысла нет.\n",
    "Пусть имеется список [6, 12, 4, 3, 8].\n",
    "\n",
    "За первую итерацию внешнего цикла число 12 переместится в конец. Для этого потребуется 4 сравнения во внутреннем цикле:\n",
    "\n",
    "    6 > 12? Нет\n",
    "    12 > 4? Да. Меняем местами\n",
    "    12 > 3? Да. Меняем местами\n",
    "    12 > 8? Да. Меняем местами\n",
    "    Результат: [6, 4, 3, 8, 12]\n",
    "    \n",
    "За вторую итерацию внешнего цикла число 8 переместиться на предпоследнее место. Для этого потребуется 3 сравнения:\n",
    "\n",
    "    6 > 4? Да. Меняем местами\n",
    "    6 > 3? Да. Меняем местами\n",
    "    6 > 8? Нет\n",
    "    Результат: [4, 3, 6, 8, 12]\n",
    "На третьей итерации внешнего цикла исключаются два последних элемента. Количество итераций внутреннего цикла равно двум:\n",
    "\n",
    "    4 > 3? Да. Меняем местами\n",
    "    4 > 6? Нет\n",
    "    Результат: [3, 4, 6, 8, 12]\n",
    "\n",
    "    \n",
    "На четвертой итерации внешнего цикла осталось сравнить только первые два элемента, поэтому количество итераций внутреннего равно единице:\n",
    "\n",
    "\n",
    "    3 > 4? Нет\n",
    "    Результат: [3, 4, 6, 8, 12]\n",
    "\n",
    "\n"
   ]
  },
  {
   "cell_type": "code",
   "execution_count": 42,
   "id": "ff03edf0-3f1a-4e79-a894-0cd3091f18d1",
   "metadata": {},
   "outputs": [
    {
     "name": "stdout",
     "output_type": "stream",
     "text": [
      "[66, 57, 44, 12, 15, 99, 79, 31, 82, 41]\n",
      "[12, 15, 31, 41, 44, 57, 66, 79, 82, 99]\n"
     ]
    }
   ],
   "source": [
    "#Реализация сортировки пузырьком с помощью циклов for \n",
    "from random import randint\n",
    "\n",
    "N = 10\n",
    "a = []\n",
    "for i in range(N):\n",
    "    a.append(randint(1, 99))\n",
    "print(a)\n",
    "\n",
    "for i in range(N-1):\n",
    "    for j in range(N-i-1):\n",
    "        if a[j] > a[j+1]:\n",
    "            a[j], a[j+1] = a[j+1], a[j]\n",
    "print(a)"
   ]
  },
  {
   "cell_type": "markdown",
   "id": "a6cd9fe5-f548-47ad-9b44-6f66b7bccf68",
   "metadata": {},
   "source": [
    "**Задача 7**\n",
    "  \n",
    "Выполните сортировку списка целых чисел в порядке убывания. Используйте метод сортировки пузырьком."
   ]
  },
  {
   "cell_type": "code",
   "execution_count": null,
   "id": "c823d656-d608-4d07-a7d1-e8a74b4086fe",
   "metadata": {},
   "outputs": [],
   "source": [
    "#ПРЕДПОЛАГАЕМОЕ РЕШЕНИЕ"
   ]
  },
  {
   "cell_type": "markdown",
   "id": "20697cc2-8af8-47ba-87a1-1c4ce51091d8",
   "metadata": {},
   "source": [
    "# Матрицы в в Python"
   ]
  },
  {
   "attachments": {
    "c55bbdb3-2f03-44cd-90e1-f2451db8cf8c.PNG": {
     "image/png": "[encoded data removed]"
    }
   },
   "cell_type": "markdown",
   "id": "a4a73fbc-0852-4625-bea8-f0d14b32057a",
   "metadata": {},
   "source": [
    "Очень часто при работе с какой-либо информацией приходится иметь дело с табличными данными. Современные программы очень часто работают именно с такими данными. Самый простой пример - это программирование игр на клетчатой доске: крестики-нолики, шахматы, шашки и т.п.\n",
    "В математике и информатике такие структуры называются матрицами.\n",
    "\n",
    "**Матрица** - это прямоугольная таблица, составленная из элементов одного типа (чисел, строк).\n",
    "\n",
    "Такие данные на языке Питон можно хранить и обрабатывать в виде двумерных списков (двумерных массивов) -\"список списков\".\n",
    "Чтобы обработать данные в таблице, надо запоминать состояние каждой ячейки (клетки). Каждая ячейка имеет два номера: номер строки и номер столбца. В матрице каждый элемент имеет два индекса: сначала указывается номер строки, затем номер столбца. Нумерация строк и столбцов начинается с нуля. Например, элемент A[1][2] - это элемент расположенный во второй строке и третьем столбце. \n",
    "\n",
    "![mtrix.PNG](attachment:c55bbdb3-2f03-44cd-90e1-f2451db8cf8c.PNG)\n"
   ]
  },
  {
   "cell_type": "markdown",
   "id": "66400d21-5e28-40af-9bfb-73525b91e751",
   "metadata": {},
   "source": [
    "Также, как и с обычными массивами (списками), для того, чтобы работать с матрицами, необходимо научиться их создавать, вводить, обрабатывать и выводить на экран. "
   ]
  },
  {
   "cell_type": "markdown",
   "id": "f9b8f1f3-16ed-4c8f-bc57-f2fe020a57a0",
   "metadata": {},
   "source": [
    "**Создание матрицы**\n",
    "\n",
    "Строгое задание элементов матрицы. Если известны все значения матрицы, то ее можно записать следующим образом:"
   ]
  },
  {
   "cell_type": "code",
   "execution_count": 4,
   "id": "a4fd1713-0ca2-4424-a61c-7f16191a01d8",
   "metadata": {},
   "outputs": [
    {
     "name": "stdout",
     "output_type": "stream",
     "text": [
      "[[1, 2, 4, 29], [3, 4, 6, 1]]\n",
      "[[1.8, 24, 4.07, 107], [13, 75.4, 7, 0.1]]\n"
     ]
    }
   ],
   "source": [
    "arr = [ [1, 2, 4, 29],\n",
    "        [3, 4, 6, 1] ];\n",
    "M = [[1.8, 24, 4.07, 107], [13, 75.4, 7, 0.1]]; #или в одну строку \n",
    "\n",
    "print( arr) #Вывод матрицы в одну строку\n",
    "print( M)"
   ]
  },
  {
   "cell_type": "markdown",
   "id": "eabd6b8a-4df4-4e89-80f3-a05e082892fb",
   "metadata": {},
   "source": [
    "**Создание матрицы с помощью списка**\n",
    "\n",
    "Чтобы создать правильно матрицу, необходимо  создать все строки в памяти как разные объекты. Для этого необходимо сначала создать пустой список, а затем в цикле добавлять к нему новые строки с помощью метода append()."
   ]
  },
  {
   "cell_type": "code",
   "execution_count": 6,
   "id": "527752f3-765f-4480-9675-bc48fd58b3a8",
   "metadata": {},
   "outputs": [
    {
     "name": "stdout",
     "output_type": "stream",
     "text": [
      "[[1, 1], [1, 1], [1, 1]]\n"
     ]
    }
   ],
   "source": [
    "N = 3\n",
    "M = 2\n",
    "A = []\n",
    "for i in range(N):\n",
    "    A.append([0]*M) #создание матрицы\n",
    "for i in range(N):\n",
    "    for j in range(M):\n",
    "        A[i][j] = 1   #Заполняем матрицу 1\n",
    "print(A) #выводим матрицу\n"
   ]
  },
  {
   "cell_type": "markdown",
   "id": "b7e441da-edc0-49a5-a7bf-08cd572af463",
   "metadata": {},
   "source": [
    "**Красивый вывод матриц**\n",
    "\n",
    "Для обработки и вывода списка, как правило, используется два вложенных цикла. Первый цикл по номеру строки, второй цикл - по элементам внутри строки.\n",
    "Для того, чтобы вывести матрицу на экран построчно, разделяя числа пробелами внутри одной строки, необходимо написать такой фрагмент:"
   ]
  },
  {
   "cell_type": "code",
   "execution_count": 7,
   "id": "c53e8e31-7b74-4f47-b190-4529075d0f48",
   "metadata": {},
   "outputs": [
    {
     "name": "stdout",
     "output_type": "stream",
     "text": [
      "1 1 \n",
      "1 1 \n",
      "1 1 \n"
     ]
    }
   ],
   "source": [
    "N = 3\n",
    "M = 2\n",
    "A = []\n",
    "for i in range(N):\n",
    "    A.append([0]*M) #создание матрицы\n",
    "for i in range(N):\n",
    "    for j in range(M):\n",
    "        A[i][j] = 1   #Заполняем матрицу 1\n",
    "for i in range(len(A)):         #выводим матрицу # len(A) - возвращает количество строк в матрице А\n",
    "    for j in range(len(A[i])):  # len(A[i]) - возвращает количество элементов в строке i\n",
    "        print(A[i][j], end = ' ')\n",
    "    print()                     # делаем переход на новую строку  \n"
   ]
  },
  {
   "cell_type": "markdown",
   "id": "6b121c5b-6f05-45ee-a57f-b33a5d449aa9",
   "metadata": {},
   "source": [
    "**Заполнение матрицы случайными числами**\n",
    "\n",
    "Библиотека numpy содержит встроенные функции над массивами.\n",
    "\n",
    "**random.random((rows, column))**-функция возвращает массив с заданным количеством измерений, где каждый элемент генерируется случайным образом в диапазоне (0,1).\n",
    "\n",
    "**zeros((rows, columns), dtype) или random.zeros(n)** - функция создаст массив нулевых значений с заданным количеством измерений.\n",
    "\n",
    "**ones((rows,columns), dtype) или random.ones(n)** - функция создаст массив единиц с заданным количеством измерений.\n",
    "\n",
    "**empty((rows,columns)) или random.empty(n)**- функция создаст массив, содержимое которого будет пустым."
   ]
  },
  {
   "cell_type": "code",
   "execution_count": 10,
   "id": "9b1395aa-ce4c-43ac-bc8c-ae8d153c0124",
   "metadata": {},
   "outputs": [
    {
     "name": "stdout",
     "output_type": "stream",
     "text": [
      "[[0.52842688 0.61261073 0.46134992 0.17629766]\n",
      " [0.13677451 0.77489559 0.97890574 0.52856996]\n",
      " [0.08500326 0.71296886 0.57273415 0.74586433]\n",
      " [0.0212862  0.39605745 0.29546329 0.71378144]]\n"
     ]
    }
   ],
   "source": [
    "import numpy\n",
    "import sys\n",
    "\n",
    "def printf(format, *args):\n",
    "    sys.stdout.write(format % args)\n",
    "n=5\n",
    "m=7\n",
    "a=numpy.random.random((n,m))\n",
    "for i in range(0,n):\n",
    "    for j in range(0,m):\n",
    "        printf(\"%6.4f\\t\",a[i][j]);\n",
    "    printf(\"\\n\")\n",
    "\n"
   ]
  },
  {
   "cell_type": "code",
   "execution_count": 22,
   "id": "967088ec-b25e-4778-a783-8452f6a2b4a4",
   "metadata": {},
   "outputs": [
    {
     "name": "stdout",
     "output_type": "stream",
     "text": [
      "[[0. 0. 0. 0. 0. 0. 0.]\n",
      " [0. 0. 0. 0. 0. 0. 0.]\n",
      " [0. 0. 0. 0. 0. 0. 0.]\n",
      " [0. 0. 0. 0. 0. 0. 0.]\n",
      " [0. 0. 0. 0. 0. 0. 0.]]\n"
     ]
    }
   ],
   "source": [
    "import numpy \n",
    "a=numpy.zeros((5,7))\n",
    "print(a)"
   ]
  },
  {
   "cell_type": "markdown",
   "id": "ac38d883-e956-4189-9260-711b4c57ebf6",
   "metadata": {},
   "source": [
    "## Примеры задач"
   ]
  },
  {
   "cell_type": "markdown",
   "id": "e460c482-a95f-4167-96d4-ba6ed586e05b",
   "metadata": {},
   "source": [
    "**Задача 1**\n",
    "\n",
    "Задана матрица неотрицательных чисел Посчитать сумму элементов в каждом столбце. Определить какие столбцы содержат максимальную сумму.\n",
    "\n",
    "*Подсказка*\n",
    "Одновременно с заполнением матрицы и выводом ее на экран будем накапливать суммы столбцов в отдельном списке. Длина этого списка будет равна количеству столбцов матрицы, исходно заполним его нулями. Когда генерируется очередное число, добавляем его к числу, находящемуся в ячейке, соответствующей номеру текущего столбца."
   ]
  },
  {
   "cell_type": "code",
   "execution_count": 45,
   "id": "99ff9964-8b36-4a6f-9f3e-0be68d4b06c7",
   "metadata": {},
   "outputs": [
    {
     "name": "stdout",
     "output_type": "stream",
     "text": [
      "  5  5  1  3  1  1  0  3  3  4\n",
      "  4  0  0  1  5  2  3  2  0  0\n",
      "  1  5  2  0  5  3  0  4  2  0\n",
      " -- -- -- -- -- -- -- -- -- --\n",
      " 10 10  3  4 11  6  3  9  5  4\n",
      "Максимальная сумма:  11\n",
      "Индексы столбцов с максимальной суммой:  4 \n"
     ]
    }
   ],
   "source": [
    "from random import randint\n",
    "\n",
    "M = 10 # количество столбцов\n",
    "N = 3 # количество строк\n",
    "matrix = []\n",
    "column_sums = [0] * M # список для хранения сумм столбцов\n",
    "for i in range(N):\n",
    "    row = [] # формируем строку матрицы\n",
    "    for j in range(M):\n",
    "        number = randint(0, 5)\n",
    "        row.append(number)\n",
    "        print(\"%3d\" % row[j], end='')\n",
    "        column_sums[j] += number # элемент строки добавится к сумме своего столбца\n",
    "    matrix.append(row)\n",
    "    print()\n",
    "for i in range(M):\n",
    "    print(\" --\", end='')\n",
    "print()\n",
    "for i in column_sums:\n",
    "    print(\"%3d\" % i, end='') # выводим на экран суммы всех столбцов\n",
    "print()\n",
    "\n",
    "max_sum = 0 # ищем максимальное значение\n",
    "for i in column_sums:\n",
    "    if i > max_sum:\n",
    "        max_sum = i\n",
    "        \n",
    "print(\"Максимальная сумма: \", max_sum)\n",
    "\n",
    "print(\"Индексы столбцов с максимальной суммой: \", end=' ')\n",
    "for index, value in enumerate(column_sums):\n",
    "    if value == max_sum:\n",
    "        print(index, end=' ')\n",
    "print()"
   ]
  },
  {
   "cell_type": "markdown",
   "id": "a3df2ee7-5f0d-4927-9946-92249d0ed0bd",
   "metadata": {},
   "source": [
    "**Задача 1**\n",
    "\n",
    "Найти сумму элементов главной диагонали матрицы и сумму элементов ее побочной диагонали.\n",
    "\n",
    "\n",
    "*Подсказка*\n",
    "\n",
    "Диагонали есть только у квадратных матриц. Квадратная матрица – это матрица, у которой количество строк равно количеству столбцов. Главная диагональ идет из верхнего левого угла в правый нижний, побочная ‒ из верхнего правого угла в левый нижний.\n",
    "\n",
    "У элементов главной диагонали совпадают оба индекса. У элементов побочной диагонали сумма индексов равна длине матрицы за вычетом единицы (N - 1). Также можно сказать, второй индекс \"противоположен\" первому.\n"
   ]
  },
  {
   "cell_type": "code",
   "execution_count": null,
   "id": "93278ad8-819b-4772-9228-18c3b8eb2b2d",
   "metadata": {},
   "outputs": [],
   "source": [
    "#ПРЕДПОЛАГАЕМОЕ РЕШЕНИЕ"
   ]
  },
  {
   "cell_type": "code",
   "execution_count": 46,
   "id": "eafa0c08-d48c-4347-88f5-476b7833192e",
   "metadata": {},
   "outputs": [
    {
     "name": "stdout",
     "output_type": "stream",
     "text": [
      "[3, 0, 0, 6, 8]\n",
      "[1, 7, 6, 3, 1]\n",
      "[9, 4, 8, 9, 8]\n",
      "[0, 1, 5, 2, 9]\n",
      "[6, 3, 0, 3, 5]\n",
      "25\n",
      "26\n"
     ]
    }
   ],
   "source": [
    "from random import random\n",
    "N = 5\n",
    "matrix = [[int(random()*10) for j in range(N)] for i in range(N)]\n",
    "\n",
    "for row in matrix:\n",
    "    print(row)\n",
    "    \n",
    "sum_main = 0\n",
    "sum_secondary = 0\n",
    "\n",
    "for i in range(N):\n",
    "    sum_main += matrix[i][i]\n",
    "    sum_secondary += matrix[i][N-i-1]\n",
    "    \n",
    "print(sum_main)\n",
    "print(sum_secondary)"
   ]
  },
  {
   "cell_type": "markdown",
   "id": "6f880152-3373-4106-95ee-c09169ccb301",
   "metadata": {},
   "source": [
    "## ЕГЭ ИНФОРМАТИКА / 25 ЗАДАНИЕ"
   ]
  },
  {
   "cell_type": "markdown",
   "id": "cf1d3d6e-c8b5-42c3-9fc6-882ab89d45a2",
   "metadata": {},
   "source": [
    "**Функция поиска делителей**"
   ]
  },
  {
   "cell_type": "code",
   "execution_count": 59,
   "id": "8d6efa23-e8bd-473a-bf0f-0dc367280f61",
   "metadata": {},
   "outputs": [
    {
     "name": "stdout",
     "output_type": "stream",
     "text": [
      "[1, 2, 4, 5, 10, 20]\n"
     ]
    }
   ],
   "source": [
    "from math import sqrt\n",
    "def dividers(n):\n",
    "    div = set()\n",
    "    for d in range(1, int(sqrt(n)) + 1):\n",
    "        if n % d == 0:\n",
    "            div.add(d)\n",
    "            div.add(n // d)\n",
    "    return sorted(div)\n",
    "print(dividers(20))"
   ]
  },
  {
   "cell_type": "markdown",
   "id": "3a522e78-dde9-48ab-80b0-2f75ec1ddc09",
   "metadata": {},
   "source": [
    "Основная идея алгоритма заключается в том, что в случае нахождения делителя $ d $ числа $ n$, мы также находим еще один делитель, а именно $ \\frac{n}{d } $ . Таким образом, перебирать  $ d $ мы можем не от 1 до $ n$, а пока $ d \\leq \\frac{n}{d }≡d^2 \\leq n $, то есть до корня из числа."
   ]
  },
  {
   "cell_type": "markdown",
   "id": "38464721-182b-4bd2-bccb-5f6dd26c3660",
   "metadata": {},
   "source": [
    "**Определение простоты**"
   ]
  },
  {
   "cell_type": "markdown",
   "id": "2f0bd7ce-17dc-4b1f-a2e3-1c56ed5dcc15",
   "metadata": {},
   "source": [
    "Напомним, что простое число - это число, которое делится только на 1 и само себя. 1 не считается простым числом. Самый простой алгоритм определения простоты базируется на том, что как и для поиска делителей, можно перебрать делители от 1 до n и делителей должно быть ровно два. Если это так, то число простое, в противном случае - составное.\n",
    "\n",
    "На предыдущем шаге мы поняли, что поиск делителей можно производить до корня из числа, а значит, если в этом процессе делители кроме 1 и самого числа найдены не были, то число является простым.  "
   ]
  },
  {
   "cell_type": "code",
   "execution_count": 60,
   "id": "f3c91de2-6bc5-4a80-a190-52374ac4c6e9",
   "metadata": {},
   "outputs": [],
   "source": [
    "from math import sqrt\n",
    "def isprime(n):\n",
    "    for d in range(2, int(sqrt(n)) + 1):\n",
    "        if n % d == 0:\n",
    "            return False\n",
    "    return True\n",
    "    "
   ]
  },
  {
   "cell_type": "markdown",
   "id": "ac7cc815-e12b-4334-ae5a-370295f474d3",
   "metadata": {},
   "source": [
    "**Библиотека fnmatch**"
   ]
  },
  {
   "cell_type": "markdown",
   "id": "6015c240-9f31-46a3-87da-bad4e4ea31c8",
   "metadata": {},
   "source": [
    "Основной метод, который нам будет полезен из этой библиотеки - это метод **fnmatch()**. С помощью него мы сможем проверять, соответствует ли строка шаблону или нет. "
   ]
  },
  {
   "cell_type": "markdown",
   "id": "f5aaa9a3-6462-4061-bf6e-69a0c305da9a",
   "metadata": {},
   "source": [
    "Шаблон для функции **fnmatch()** будет представлять собой строку, которая будет содержать символы  *  и ?:\n",
    "\n",
    "    Символ * означает любую последовательность символов произвольной длины\n",
    "    Символ ? означает ровно один произвольный символ\n",
    "\n",
    "Первым параметром в функцию подается строка, вторым параметром шаблон.\n",
    "\n",
    "Рассмотрим на примере:"
   ]
  },
  {
   "cell_type": "code",
   "execution_count": 62,
   "id": "384c896f-9e88-465c-9619-1666f2cb590e",
   "metadata": {},
   "outputs": [
    {
     "name": "stdout",
     "output_type": "stream",
     "text": [
      "True\n"
     ]
    }
   ],
   "source": [
    "from fnmatch import fnmatch\n",
    "print(fnmatch('name.txt', '*.txt'))"
   ]
  },
  {
   "cell_type": "code",
   "execution_count": 63,
   "id": "6b5ca4ad-602b-442f-b845-4cc456afad6e",
   "metadata": {},
   "outputs": [
    {
     "name": "stdout",
     "output_type": "stream",
     "text": [
      "True\n"
     ]
    }
   ],
   "source": [
    "from fnmatch import fnmatch\n",
    "print(fnmatch('12534', '12?34'))"
   ]
  },
  {
   "cell_type": "markdown",
   "id": "451b7f0c-ef2d-4117-9a73-af0f6dba3e42",
   "metadata": {},
   "source": [
    "Также удобным может являться задание набора определенных символов в маске, например маска  A[BCD].txt задает строки AB.txt, AC.txt, AD.txt, то есть будет давать на них значение True."
   ]
  },
  {
   "cell_type": "markdown",
   "id": "926235df-36f6-4f80-a786-fa5f8aa6190d",
   "metadata": {},
   "source": [
    "**Задание 1**\n",
    "\n",
    "Напишите программу, которая ищет среди целых чисел, принадлежащих числовому отрезку [174457;174505], числа, имеющие ровно два различных натуральных делителя, не считая единицы и самого числа. Для каждого найденного числа запишите эти два делителя через пробел с новой строки в порядке возрастания произведения этих двух делителей. Делители в строке таблицы также должны следовать в порядке возрастания. \n",
    "  "
   ]
  },
  {
   "cell_type": "code",
   "execution_count": null,
   "id": "75a9fba8-e23e-41b0-bb3f-cff974476808",
   "metadata": {},
   "outputs": [],
   "source": [
    "#ПРЕДПОЛАГАЕМОЕ РЕШЕНИЕ"
   ]
  },
  {
   "cell_type": "code",
   "execution_count": 66,
   "id": "8716fe2c-2bc6-4691-a44d-1b9fe3633501",
   "metadata": {},
   "outputs": [
    {
     "name": "stdout",
     "output_type": "stream",
     "text": [
      "3 58153\n",
      "7 24923\n",
      "59 2957\n",
      "13 13421\n",
      "149 1171\n",
      "5 34897\n",
      "211 827\n",
      "2 87251\n"
     ]
    }
   ],
   "source": [
    "#решение\n",
    "from math import sqrt #из библиотеку math импортируем корень\n",
    "def dividers(n):     # Функция поиска делителей\n",
    "    div = set()    # делители\n",
    "    for d in range(2, int(sqrt(n)) + 1): # не считая единицы и самого числа,поэтому начинаем с 2\n",
    "        if n % d == 0:\n",
    "            div.add(d)\n",
    "            div.add(n // d)\n",
    "    return sorted(div)\n",
    "    \n",
    "for n in range(174457, 174505 + 1):    \n",
    "    div=dividers(n)  #ищем делители\n",
    "    if len(div) == 2:  #если делителей 2, то выводим\n",
    "        print(*div)"
   ]
  },
  {
   "cell_type": "markdown",
   "id": "78934c9a-3cc1-4377-b4a9-351fcb1e8c62",
   "metadata": {},
   "source": [
    "**Задание 2**\n",
    "\n",
    "Напишите программу, которая перебирает целые числа, большие 600000, в порядке возрастания и ищет среди них такие, у которых есть натуральный делитель, оканчивающийся на цифру 7 и не равный ни самому числу, ни числу 7. В ответе запишите в первой строке таблицы первые пять найденных чисел в порядке возрастания, а во втором столбце - наименьший делитель для каждого из них, оканчивающийся цифрой 7, не равный ни самому числу, ни числу 7. Числа записывайте, разделяя пробелом, каждую пару выводите с новой строки."
   ]
  },
  {
   "cell_type": "code",
   "execution_count": null,
   "id": "240a6e68-6a0b-437b-affe-4d9835be89fd",
   "metadata": {},
   "outputs": [],
   "source": [
    "#ПРЕДПОЛАГАЕМОЕ РЕШЕНИЕ"
   ]
  },
  {
   "cell_type": "code",
   "execution_count": 73,
   "id": "830f2fac-48cf-498c-b163-0b23ae5a9953",
   "metadata": {},
   "outputs": [
    {
     "name": "stdout",
     "output_type": "stream",
     "text": [
      "600001 437\n",
      "600002 47\n",
      "600003 1227\n",
      "600005 217\n",
      "600012 16667\n"
     ]
    }
   ],
   "source": [
    "#решение\n",
    "def divider(n):    \n",
    "    for d in range(17, n,10): \n",
    "        if n % d == 0:\n",
    "          return d\n",
    "    return -1   \n",
    "count=0\n",
    "n=600000+1\n",
    "while count != 5:\n",
    "    div7= divider(n)\n",
    "    if div7 != -1:\n",
    "        print(n, div7 )\n",
    "        count += 1\n",
    "    n += 1\n",
    "\n"
   ]
  },
  {
   "cell_type": "markdown",
   "id": "6b8fe7b7-37f8-4db2-9563-a297e1b0d026",
   "metadata": {},
   "source": [
    "**Задание 3**\n"
   ]
  },
  {
   "cell_type": "markdown",
   "id": "ce3cb1b8-51c2-44a6-94eb-8587ca7fd639",
   "metadata": {},
   "source": [
    "Напишите программу, которая ищет среди целых чисел, принадлежащих числовому отрезку [3;1000000][3;1000000] последовательности подряд идущих составных чисел длиной не менее 90. Для каждой найденной последовательности запишите в порядке возрастания простые числа, стоящие на границах данных последовательностей.\n",
    "В ответе запишите эти пары простых чисел в порядке возрастания первого числа в паре.\n"
   ]
  },
  {
   "cell_type": "code",
   "execution_count": null,
   "id": "0274f7a6-3513-46a6-bf8c-5cce570f8cd2",
   "metadata": {},
   "outputs": [],
   "source": [
    "#ПРЕДПОЛАГАЕМОЕ РЕШЕНИЕ"
   ]
  },
  {
   "cell_type": "code",
   "execution_count": 74,
   "id": "57f6b609-1160-4bdb-a8e3-089fefa01ef6",
   "metadata": {},
   "outputs": [
    {
     "name": "stdout",
     "output_type": "stream",
     "text": [
      "360653 360749\n",
      "370261 370373\n",
      "396733 396833\n",
      "492113 492227\n",
      "604073 604171\n",
      "838249 838349\n",
      "860143 860239\n",
      "927869 927961\n"
     ]
    }
   ],
   "source": [
    "#решение\n",
    "from math import sqrt\n",
    "def isprime(n):\n",
    "    for d in range(2, int(sqrt(n)) + 1):\n",
    "        if n % d == 0:\n",
    "            return False\n",
    "    return True\n",
    "primes = [x for x in range(3,1000000+1) if isprime(x)]    \n",
    "for i in range(len(primes)-1): \n",
    "    dist=primes[i+1]-primes[i]-1\n",
    "    if dist>=90:\n",
    "        print(primes[i], primes[i+1] )"
   ]
  },
  {
   "cell_type": "markdown",
   "id": "ce730a5a-8cd4-4b31-914c-9c0d6160bd88",
   "metadata": {},
   "source": [
    "**Задание 4**\n",
    "\n",
    "\n",
    "Назовём маской числа последовательность цифр, в которой также могут встречаться следующие символы:\n",
    "\n",
    "    символ ? означает ровно одну произвольную цифру;\n",
    "    символ # означает последовательность из ровно трёх произвольных цифр.\n",
    "\n",
    "Например, маске 123#4?5 соответствуют числа 123333405 и 123001405. Среди натуральных чисел, не превышающих $ 10^{10}$ , найдите все числа, соответствующие маске 21#68?79, делящиеся на 1777 без остатка. В ответе запишите в первом столбце таблицы все найденные числа в порядке возрастания, а во втором столбце – соответствующие им результаты деления этих чисел на 1777. Числа записывайте, разделяя пробелом, каждую пару выводите с новой строки.\n"
   ]
  },
  {
   "cell_type": "code",
   "execution_count": null,
   "id": "a1f2df5b-82f7-41ab-aaf5-462dfe75afa4",
   "metadata": {},
   "outputs": [],
   "source": [
    "#ПРЕДПОЛАГАЕМОЕ РЕШЕНИЕ"
   ]
  },
  {
   "cell_type": "code",
   "execution_count": 78,
   "id": "6c5c635f-9159-44eb-8de9-ed8b6769b179",
   "metadata": {},
   "outputs": [
    {
     "name": "stdout",
     "output_type": "stream",
     "text": [
      "2110768579 1187827\n",
      "2135468879 1201727\n",
      "2137068179 1202627\n",
      "2161768479 1216527\n",
      "2186468779 1230427\n",
      "2188068079 1231327\n"
     ]
    }
   ],
   "source": [
    "#решение\n",
    "from fnmatch import fnmatch\n",
    "for n in range(1777, 10**10 + 1, 1777): \n",
    "    if fnmatch(str(n), '21???68?79'):\n",
    "        print(n, n // 1777)"
   ]
  },
  {
   "cell_type": "markdown",
   "id": "f8e076e9-3aa1-491d-9182-b2e43c3752bb",
   "metadata": {},
   "source": [
    "**Задание 5**\n",
    "\n",
    "Назовём маской числа последовательность цифр, в которой также могут встречаться следующие символы:\n",
    "\n",
    "    символ ? означает ровно одну произвольную цифру;\n",
    "    символ * означает любую последовательность цифр произвольной длины; в том числе * может задавать и пустую последовательность.\n",
    "\n",
    "Например, маске 123*4?5 соответствуют числа 123405 и 12300405. Среди натуральных чисел, не превышающих $ 10^{10}$, найдите все числа, соответствующие маске 7*6*1, у которых сумма всех делителей нечётна (включая единицу и само число). В ответе запишите количество подходящих чисел.\n"
   ]
  },
  {
   "cell_type": "code",
   "execution_count": null,
   "id": "b581a7ba-4cc4-478c-8aba-7bc4633feae7",
   "metadata": {},
   "outputs": [],
   "source": [
    "#ПРЕДПОЛАГАЕМОЕ РЕШЕНИЕ"
   ]
  },
  {
   "cell_type": "code",
   "execution_count": 83,
   "id": "aa945500-fc59-4c28-80dd-f9d349e48eb1",
   "metadata": {},
   "outputs": [
    {
     "name": "stdout",
     "output_type": "stream",
     "text": [
      "1061\n"
     ]
    }
   ],
   "source": [
    "from fnmatch import fnmatch\n",
    "\n",
    "step, n = 1, 1\n",
    "count = 0\n",
    "while n <= 10**10:\n",
    "    if fnmatch(str(n), '7*6*1'):\n",
    "        count += 1\n",
    "    step += 1\n",
    "    n = step**2\n",
    "print(count)"
   ]
  },
  {
   "cell_type": "code",
   "execution_count": null,
   "id": "571bb4c7-7bb2-44d1-8711-72fa02f626f7",
   "metadata": {},
   "outputs": [],
   "source": []
  }
 ],
 "metadata": {
  "kernelspec": {
   "display_name": "Python 3 (ipykernel)",
   "language": "python",
   "name": "python3"
  },
  "language_info": {
   "codemirror_mode": {
    "name": "ipython",
    "version": 3
   },
   "file_extension": ".py",
   "mimetype": "text/x-python",
   "name": "python",
   "nbconvert_exporter": "python",
   "pygments_lexer": "ipython3",
   "version": "3.10.12"
  }
 },
 "nbformat": 4,
 "nbformat_minor": 5
}
