{
 "cells": [
  {
   "cell_type": "markdown",
   "id": "4adeaf42-7f86-4568-a6a7-8233e31bf6a3",
   "metadata": {},
   "source": [
    "# Алгоритмизация и программирование "
   ]
  },
  {
   "cell_type": "markdown",
   "id": "2813115f-2982-4765-9ac8-4616fbec8987",
   "metadata": {},
   "source": [
    "**Алгоритм** — это точное описание порядка действий, которые должен выполнить исполнитель для решения задачи.\n",
    "\n",
    "**Свойства алгоритма**\n",
    "* *Дискретность* — алгоритм состоит из отдельных команд (шагов), каждая из которых выполняется ограниченное время.\n",
    "* *Детерминированность (определенность)* — при каждом запуске алгоритма с одними и теми же исходными данными должен быть получен один и тот же результат.\n",
    "* *Понятность* — алгоритм содержит только команды, входящие в систему команд исполнителя, для которого он предназначен.\n",
    "* Конечность (результативность) — для корректного набора данных алгоритм должен завершаться через конечное время с вполне определенным результатом (результатом может быть сообщение о том, что задача не имеет решений).\n",
    "* Корректность — для допустимых исходных данных алгоритм должен приводить к правильному результату.\n",
    "* Массовость – алгоритм, как правило, предназначен для решения множества однотипных задач с различными исходными данными.\n",
    "  \n",
    "  **Способы записи алгоритмов**\n",
    "  \n",
    "  Алгоритмы можно записывать разными способами:\n",
    "  * на естественном языке, обычно такой способ применяют, записывая основные идеи алгоритма на начальном этапе;\n",
    "  * на псевдокоде, так называется смешанная запись, в которой используется естественный язык и операторы какого-либо языка программирования; в сравнении с предыдущим вариантом такая запись гораздо более строгая;\n",
    "  * в виде блок-схемы (графическая запись);\n",
    "  * в виде программы на языке программирования.\n",
    "  \n",
    "Чтобы решать задачи на компьюторе, необходимо владеть языком программирования, овладать знаниями в области информационного моделирования и алгоритмизации.\n",
    "\n",
    "Решение задач на компьюторе включают в себя следующие этапы:\n",
    "| Этап  | Результат     |\n",
    "|---- |---------|\n",
    "| Постановка задачи| Словестная информационная модель|\n",
    "|Формализация      | Математическая модель           |\n",
    "|Алгоритмизация    | Алгоритм                        |\n",
    "| Программирование | Программа                       |\n",
    "| Отладка и тестирование| Уточнение модели, получение результатов|\n",
    "\n",
    "1. На первом этапе обычно осуществляется постановка задачи, происходит осознание её условия. При этом должно быть чётко , что дано (какие исходные данные известны, какие данные до-пустимы) и что требуется найти в решаемой задаче. Также должны быть чётко выделены существенные свойства рассматриваемого объ-екта, указаны связи между исходными данными и результатами.\n",
    "2. На втором этапе описательная информационная модель формализуется, т. е, записывается с помощью некоторого формального языка\n",
    "\n",
    "**Разработку программы можно разбить на следующие этапы:**\n",
    "1. Составление алгоритма решения задачи. Алгоритм — это описание\n",
    "последовательности действий, которые необходимо выполнить для решения поставленной\n",
    "задачи.\n",
    "2. Написание текста программы. Текст программы пишут на каком-либо языке\n",
    "программирования и вводят его в компьютер с помощью текстового\n",
    "редактора.\n",
    "3. Отладка программы. Отладка программы — это процесс устранения ошибок из\n",
    "текста программы. Все ошибки делятся на синтаксические и логические. При наличии\n",
    "синтаксических ошибок (ошибок в написании операторов) программа не запускается.\n",
    "Подобные ошибки исправляются проще всего. Логические ошибки — это ошибки, при\n",
    "которых программа работает, но неправильно, выдавая не те результаты, которые ожидает\n",
    "разработчик или пользователь. Логические ошибки исправить сложнее, чем синтаксические,\n",
    "иногда для этого приходится переписывать отдельные участки программы, а иногда\n",
    "перерабатывать весь алгоритм.\n",
    "4. Тестирование программы. Тестирование программы — процесс выявления ошибок в\n",
    "ее работе."
   ]
  },
  {
   "attachments": {
    "01e0c43e-c746-4582-9199-92c9fde1930f.jpg": {
     "image/jpeg": "[encoded data removed]"
    }
   },
   "cell_type": "markdown",
   "id": "e08983a0-0f86-461f-9593-8819eb7ffe8c",
   "metadata": {},
   "source": [
    "Рассмотрим последовательность прохождения этапов решения задачи на компьюторе на примере простой задачи. Найдем площадь и периметр прямоугольного треугольника. \n",
    "\n",
    "*Дано*: a,b //катеты прямоугольного треугольника\n",
    "\n",
    "*Найти*: S,P.\n",
    "\n",
    "![4ccNhbhTfDU.jpg](attachment:01e0c43e-c746-4582-9199-92c9fde1930f.jpg)\n",
    "\n",
    "Периметр находится путем сложения длин всех сторон треугольника:\n",
    "\n",
    "$$ P = a + b + c $$\n",
    "Поскольку из условия задачи известны только длины катетов, предварительно следует вычислить длину гипотенузы по теореме Пифагора:\n",
    "$$c^2=a^2+b^2$$\n",
    "$$ c= \\sqrt{a^2+b^2} $$\n"
   ]
  },
  {
   "cell_type": "code",
   "execution_count": 6,
   "id": "0c90066e-6abf-4c1e-8066-eaa5a197bc92",
   "metadata": {},
   "outputs": [
    {
     "name": "stdin",
     "output_type": "stream",
     "text": [
      "Длина первого катета:  8\n",
      "Длина второго катета:  5\n"
     ]
    },
    {
     "name": "stdout",
     "output_type": "stream",
     "text": [
      "Площадь треугольника: 20.00\n",
      "Периметр треугольника: 22.43\n"
     ]
    }
   ],
   "source": [
    "import math #Чтобы извлечь квадратный корень в Python, можно воспользоваться функцией sqrt из модуля math\n",
    "\n",
    "a = input(\"Длина первого катета: \") #Запрашиваем у пользователя значение а\n",
    "b = input(\"Длина второго катета: \") #Запрашиваем у пользователя значение b\n",
    "\n",
    "a = float(a) #Ввод вещественного числа а\n",
    "b = float(b) #Ввод вещественного числа b\n",
    "\n",
    "c = math.sqrt(a ** 2 + b ** 2) #Вычисляем длину гипотенузы по формуле с помощью теоремы Пифагора\n",
    "\n",
    "S = (a * b) / 2 #Площадь прямоугольного треугольника будет равна половине произведения его катетов\n",
    "P = a + b + c #Периметр находится путем сложения длин всех сторон треугольника\n",
    "\n",
    "print(\"Площадь треугольника: %.2f\" % S) #Выводит на экран площадь треугольника\n",
    "print(\"Периметр треугольника: %.2f\" % P) # Выводит на экран периметр треугольника"
   ]
  },
  {
   "cell_type": "markdown",
   "id": "d1444ea5-1101-4698-a5ce-c5dcc91bb1ca",
   "metadata": {},
   "source": [
    "Чтобы объяснить подробнее каждую строчку используются комментарии. В Python они начинаются со знака # и могут появляться в любом месте программы. Они могут занимать всю строку. Если одной строки мало, то создается несколько комментариев.\n"
   ]
  },
  {
   "cell_type": "markdown",
   "id": "c4fe142b-0e06-4d0f-862d-390da86d14ab",
   "metadata": {},
   "source": [
    "Чтобы увидеть на экране ожидаемый результат, нужно дать компьютеру четкие и пошаговые указания. Это можно сделать с помощью инструкций. Инструкция — это команда для компьютера, единица выполнения. Код на Python в этом случае — это набор инструкций. \n",
    "\n",
    "Код на Python запускает интерпретатор — программу, которая выполняет инструкции строго по очереди. Наборы инструкций для интерпретатора пишутся по порядку и отделяются друг от друга переходом на следующую строку.\n",
    "\n",
    "Разработчики должны понимать порядок действий в коде и уметь мысленно разделять программу на независимые части, удобные для анализа."
   ]
  },
  {
   "cell_type": "markdown",
   "id": "6fa45b95-a22f-414a-962e-e321de516f9b",
   "metadata": {},
   "source": [
    "# Переменные, ввод-вывод, простейшие вычисления #"
   ]
  },
  {
   "cell_type": "markdown",
   "id": "fa77812c-818b-46b7-be9b-41f9e5729569",
   "metadata": {},
   "source": [
    "## Переменные в языке Python\n"
   ]
  },
  {
   "cell_type": "markdown",
   "id": "a8018d74-976a-4038-ad7d-532640c44887",
   "metadata": {},
   "source": [
    "Для определения переменных в Python достаточно переменной просто присвоить значение."
   ]
  },
  {
   "cell_type": "code",
   "execution_count": 12,
   "id": "01f00d0a-a406-4eba-9e4b-4573702ce70b",
   "metadata": {},
   "outputs": [
    {
     "name": "stdout",
     "output_type": "stream",
     "text": [
      "a= 10\n"
     ]
    }
   ],
   "source": [
    "#Определяем целочисленную переменную\n",
    "a=10\n",
    "print(\"a=\",a);"
   ]
  },
  {
   "cell_type": "code",
   "execution_count": 14,
   "id": "1c40a5fa-77e2-44c4-aa17-6c7e7bada452",
   "metadata": {},
   "outputs": [
    {
     "name": "stdout",
     "output_type": "stream",
     "text": [
      "a= 87.23\n"
     ]
    }
   ],
   "source": [
    "#Определяем вещественную переменную\n",
    "a=87.23\n",
    "print(\"a=\",a);"
   ]
  },
  {
   "cell_type": "code",
   "execution_count": 15,
   "id": "8ae182d7-a770-47ad-85f2-5d72a001cacf",
   "metadata": {},
   "outputs": [
    {
     "name": "stdout",
     "output_type": "stream",
     "text": [
      "a= Привет,мир!\n"
     ]
    }
   ],
   "source": [
    "#Определяем строку\n",
    "a=\"Привет,мир!\"\n",
    "print(\"a=\",a);"
   ]
  },
  {
   "cell_type": "markdown",
   "id": "d8465cb4-2212-44f0-9bfb-38a0dbd42923",
   "metadata": {},
   "source": [
    "## Ввод-вывод данных"
   ]
  },
  {
   "cell_type": "markdown",
   "id": "204ac9a1-8ef6-4f11-b0ce-01e7799db5f1",
   "metadata": {},
   "source": [
    "Мы уже использование оператор вывода print для вывода результата. В общем случае оператор вывода имеет вид print(a1,a2,a3,...,an). Здесь ai - выводимая переменная, выражение или константа.\n",
    "\n",
    "Для ввода данных используется оператор x=input(\"Введите значение x\"). В качестве аргумента функции ввода input в скобвках указывается подсказка. Рассмотрим пример.\n"
   ]
  },
  {
   "cell_type": "code",
   "execution_count": 19,
   "id": "07f2d06a-1e21-430d-bf04-b707750810d8",
   "metadata": {},
   "outputs": [
    {
     "name": "stdin",
     "output_type": "stream",
     "text": [
      "x= 77\n",
      "y= 82\n",
      "z= 24\n"
     ]
    },
    {
     "name": "stdout",
     "output_type": "stream",
     "text": [
      "778224\n"
     ]
    }
   ],
   "source": [
    "x=input(\"x=\");\n",
    "y=input(\"y=\");\n",
    "z=input(\"z=\");\n",
    "print(x+y+z);"
   ]
  },
  {
   "cell_type": "markdown",
   "id": "7da0c024-c28e-4792-b18d-9481141d18bd",
   "metadata": {},
   "source": [
    "Результат Вас может удивить. Всё дело в том, что функция input возвращает текстовое значение, а оператор + выполняет операцию конкатанации (объединения) строк. Чтобы a,b и c были числами, необходимо вводимое целое число преобразовать к целому (функция int(str)) или вещественному (float(str)) типу.\n"
   ]
  },
  {
   "cell_type": "code",
   "execution_count": 20,
   "id": "7dc95e52-97ce-420a-a7d9-ff029cd796d1",
   "metadata": {},
   "outputs": [
    {
     "name": "stdin",
     "output_type": "stream",
     "text": [
      "x= 77\n",
      "y= 82\n",
      "z= 24\n"
     ]
    },
    {
     "name": "stdout",
     "output_type": "stream",
     "text": [
      "183\n"
     ]
    }
   ],
   "source": [
    "#Ввод целых значений x,y,z\n",
    "x=int(input(\"x=\"));\n",
    "y=int(input(\"y=\"));\n",
    "z=int(input(\"z=\"));\n",
    "print(x+y+z);"
   ]
  },
  {
   "cell_type": "code",
   "execution_count": 28,
   "id": "c0912924-574e-4376-a88f-97830d847eb6",
   "metadata": {},
   "outputs": [
    {
     "name": "stdin",
     "output_type": "stream",
     "text": [
      "x= 77.5\n",
      "y= 475.14\n",
      "z= 1.0091\n"
     ]
    },
    {
     "name": "stdout",
     "output_type": "stream",
     "text": [
      "553.6491\n"
     ]
    }
   ],
   "source": [
    "#Ввод вещественных значений x,y,z\n",
    "x=float(input(\"x=\"));\n",
    "y=float(input(\"y=\"));\n",
    "z=float(input(\"z=\"));\n",
    "\n",
    "print( x+y+z);\n"
   ]
  },
  {
   "cell_type": "code",
   "execution_count": 29,
   "id": "ebdf9a58-9d4c-4af6-b977-959c41310115",
   "metadata": {},
   "outputs": [
    {
     "name": "stdin",
     "output_type": "stream",
     "text": [
      "x= 25\n"
     ]
    },
    {
     "name": "stdout",
     "output_type": "stream",
     "text": [
      "x= 25.0\n",
      "y= 5.0\n"
     ]
    }
   ],
   "source": [
    "#Рассмотрим ещё один пример\n",
    "x=float(input(\"x=\"));\n",
    "# оператор возведения в степень в Python **\n",
    "y=x**0.5\n",
    "print(\"x=\",x);\n",
    "print(\"y=\",y);\n"
   ]
  },
  {
   "cell_type": "markdown",
   "id": "eed7986b-a1c9-4c0f-99ff-ef82ef86017d",
   "metadata": {},
   "source": [
    "Казалорсь бы он очень простой, но возникает два вопроса:\n",
    "+ почему оператор `print(\"y=\",y);` выводит значение в новой строке?\n",
    "+ как форматировать вывод?\n",
    "\n",
    "Ответ на первый вопрос очевиден, оператор `print` заканчивается переводом на новую строку. Но возникает другой вопрос \"Как добиться того, чтобы оператор не переводил курсор на новую строку?\"\n",
    "\n",
    "В операторе `print` используется два допущения по умолчанию:\n",
    "+ между элементами списка вывода используется разделитель пробел (параметр `sep=' '`);\n",
    "+ после списка значений выводится символ перехода на новую строку '\\n' (параметр `end='\\n'`).\n",
    "\n",
    "  Если забыть про действие этих параметров по умолчанию, то предыдущий пример имеет вид:\n"
   ]
  },
  {
   "cell_type": "code",
   "execution_count": 30,
   "id": "1ee7533d-530e-41b4-a5b9-c54259483b6c",
   "metadata": {},
   "outputs": [
    {
     "name": "stdin",
     "output_type": "stream",
     "text": [
      "x= 25\n"
     ]
    },
    {
     "name": "stdout",
     "output_type": "stream",
     "text": [
      "x= 25.0\n",
      "y= 5.0\n"
     ]
    }
   ],
   "source": [
    "x=float(input(\"x=\"));\n",
    "# оператор возведения в степень в Python **\n",
    "y=x**0.5\n",
    "print(\"x=\",x,sep=' ', end='\\n');\n",
    "print(\"y=\",y,sep=' ', end='\\n');"
   ]
  },
  {
   "cell_type": "markdown",
   "id": "00af9736-2b06-4a76-8fbb-531db12116d6",
   "metadata": {},
   "source": [
    "Рассмотрим возможности усправления выводом числовых значений.\n",
    "\n",
    "**Форматированный вывод целых чисел** может быть таким\n",
    "```\n",
    "print(\"{:kd}\".format(a))\n",
    "```\n",
    "Здесь\n",
    "+ k - ширина поля вывода;\n",
    "+ d - код целочисленного формата: **d** - десятичное число, **b** - двоичное, **o** - восьмеричное, **x(X)** -шестнадцатеричное (в нижнем и верхнем регистре соответственно);\n",
    "+ a - выводимое число или выражение.\n",
    "\n",
    "Если нужно выводить незначащие нули в целой части, тогда `print` становится таким.\n",
    "```\n",
    "print(\"{:0kd}\".format(a))\n",
    "```\n",
    "Ниже представлены примеры использования\n"
   ]
  },
  {
   "cell_type": "code",
   "execution_count": 32,
   "id": "699d429d-4044-426d-b9ef-9f8ecaafdcca",
   "metadata": {},
   "outputs": [
    {
     "name": "stdout",
     "output_type": "stream",
     "text": [
      "a=      25\n",
      "a= 0011001\n",
      "a=      31\n",
      "a= 0000019\n",
      "a=      19\n"
     ]
    }
   ],
   "source": [
    "a=25;\n",
    "print('a=',\"{:7d}\".format(a))\n",
    "print('a=',\"{:07b}\".format(a))\n",
    "print('a=',\"{:7o}\".format(a))\n",
    "print('a=',\"{:07x}\".format(a))\n",
    "print('a=',\"{:7X}\".format(a))\n"
   ]
  },
  {
   "cell_type": "markdown",
   "id": "86c2bf51-29c0-44bb-b668-22e1ee896073",
   "metadata": {},
   "source": [
    "**Форматированный вывод вещественных чисел** может быть таким\n",
    "```\n",
    "print(\"{:k.mf}\".format(a))\n",
    "```\n",
    "Здесь\n",
    "+ k - ширина поля вывода, m - число цифр в дробной части числа (по умолчанию m=6);\n",
    "+ f - код вещественного формата: **f** - вещественное число в фиксированном формате, **e(E)** - вещественное число в эспоненциальной форме;\n",
    "+ a - выводимое число или выражение.\n",
    "\n",
    "Если нужно выводить незначащие нули в целой части, тогда `print` становится таким.\n",
    "```\n",
    "print(\"{:0k.md}\".format(a))\n",
    "```\n",
    "Ниже представлены примеры использования"
   ]
  },
  {
   "cell_type": "code",
   "execution_count": 34,
   "id": "49af9d20-f2c3-4d38-9f58-e43faabb8d80",
   "metadata": {},
   "outputs": [
    {
     "name": "stdout",
     "output_type": "stream",
     "text": [
      "a=     3.1483\n",
      "a= 00003.1483\n",
      "a= 3.1483e+00\n",
      "a= 3.1483E+00\n",
      "a= 003.148295\n",
      "a= 3.148295E+00\n"
     ]
    }
   ],
   "source": [
    "a=3.148295;\n",
    "print('a=',\"{:10.4f}\".format(a))\n",
    "print('a=',\"{:010.4f}\".format(a))\n",
    "print('a=',\"{:10.4e}\".format(a))\n",
    "print('a=',\"{:10.4E}\".format(a))\n",
    "print('a=',\"{:010f}\".format(a))\n",
    "print('a=',\"{:10E}\".format(a))"
   ]
  },
  {
   "cell_type": "markdown",
   "id": "63a2fcef-88a6-44db-b277-2cdc75be1eb8",
   "metadata": {},
   "source": [
    "Рассмотрим фозможности управления выравниванием при выводе. Для управления выравниванием используются следующие символы.\n",
    "| Символ выравнивания | Описание |\n",
    "|:-------------:|:---------------:|\n",
    "| < | Выравнивание по левой границе |\n",
    "| > | Выравнивание по правой границе |\n",
    "| ^ | Выравнивание по центру |\n",
    "| =  | Сдвигает знаки (+ или -) к левой позиции |\n",
    "\n",
    "Рассмотрим  форматированный вывод с управлением выравниванием.\n"
   ]
  },
  {
   "cell_type": "code",
   "execution_count": 40,
   "id": "00b2e438-61b5-4d9e-849b-5b2874fb06a3",
   "metadata": {},
   "outputs": [
    {
     "name": "stdout",
     "output_type": "stream",
     "text": [
      "a= 14.2508   \n",
      "a=    1.4e+01\n",
      "a=   14.25   \n",
      "a= +    14.25 -    14.25\n"
     ]
    }
   ],
   "source": [
    "a=14.2508247009;\n",
    "print('a=',\"{:<10.4f}\".format(a))\n",
    "print('a=',\"{:>10.1e}\".format(a))\n",
    "print('a=',\"{:^10.2f}\".format(a))\n",
    "# Здесь + в строке показывает, что знак + перед числом надо выводить явно\n",
    "print('a=',\"{:=+10.2f}\".format(a),\"{:=10.2f}\".format(-a))"
   ]
  },
  {
   "cell_type": "code",
   "execution_count": null,
   "id": "47c81577-4145-4cde-ba44-d9b91ad68a0d",
   "metadata": {},
   "outputs": [],
   "source": [
    "#ЗАДАНИЕ для самостоятельного решения\n",
    "#Напишите программу, которая запрашивает у пользователя два числа и выполняет с ними все основные арифметические операции:\n",
    "#сложение, вычитание, умножение и деление.\n",
    "\n"
   ]
  },
  {
   "cell_type": "markdown",
   "id": "57d88e91-265c-45ba-a366-4462077b5f0e",
   "metadata": {},
   "source": [
    "## Ввод и вычисление выражений"
   ]
  },
  {
   "cell_type": "markdown",
   "id": "67e928ec-c9b5-4d80-99ef-30260e6cd6ea",
   "metadata": {},
   "source": [
    "В Python существует возможность ввода строки, которая является арифметическим выражением. Потом это выражение можно ввести с помощью функции eval. Рассмотрим пример.\n"
   ]
  },
  {
   "cell_type": "code",
   "execution_count": 42,
   "id": "33979b1e-666b-4f68-8ec8-293efe432598",
   "metadata": {},
   "outputs": [
    {
     "name": "stdin",
     "output_type": "stream",
     "text": [
      "Введите строку для вычисления 14*75+1\n"
     ]
    },
    {
     "name": "stdout",
     "output_type": "stream",
     "text": [
      "1051\n"
     ]
    }
   ],
   "source": [
    "stroka=input('Введите строку для вычисления');\n",
    "print(eval(stroka));"
   ]
  },
  {
   "cell_type": "code",
   "execution_count": 43,
   "id": "be06c240-2d8f-43b7-aa6c-7a2ba3d492b9",
   "metadata": {},
   "outputs": [
    {
     "name": "stdin",
     "output_type": "stream",
     "text": [
      "Введите целое число a 2\n",
      "Введите целое число b 3\n"
     ]
    },
    {
     "name": "stdout",
     "output_type": "stream",
     "text": [
      "a+b= 5\n",
      "a*b= 6\n",
      "a/b= 0.6666666666666666\n",
      "a//b= 0\n",
      "a%b= 2\n",
      "a-b= -1\n",
      "a**b= 8\n"
     ]
    }
   ],
   "source": [
    "# Пример простейших арифметических выражений\n",
    "a=int(input('Введите целое число a'));\n",
    "b=int(input('Введите целое число b'));\n",
    "print('a+b=',a+b); #сложение\n",
    "print('a*b=',a*b); #умножение\n",
    "print('a/b=',a/b); #деление\n",
    "print('a//b=',a//b); #деление на цело\n",
    "print('a%b=',a%b); #остаток от деления\n",
    "print('a-b=',a-b); #вычитание\n",
    "print('a**b=',a**b);#возведение в степень"
   ]
  },
  {
   "cell_type": "markdown",
   "id": "270436c3-c9d8-4cd3-94f2-842bafa645ba",
   "metadata": {},
   "source": [
    "## Примеры задач"
   ]
  },
  {
   "cell_type": "markdown",
   "id": "3c1ad250-66f5-4e24-b425-a0ae0950c3f8",
   "metadata": {},
   "source": [
    "**Задача 1**\n",
    "Количества школьников и яблок вводятся с клавиатуры Программа должна поровну поделить яблоки между школьниками так чтобы каждому достались только целые яблоки, остальные остаются в корзине. На экран должно выводиться сколько яблок получит каждый школьник и сколько останется в корзине."
   ]
  },
  {
   "cell_type": "code",
   "execution_count": null,
   "id": "c84a8320-a680-47ca-a689-c2e3c5b5fd47",
   "metadata": {},
   "outputs": [],
   "source": [
    "#ПРЕДПОЛАГАЕМОЕ РЕШЕНИЕ"
   ]
  },
  {
   "cell_type": "markdown",
   "id": "444c25ae-2b16-4b2b-a1f2-e188d1e0997c",
   "metadata": {},
   "source": [
    "Данная задача сводится к двум операциям:\n",
    "1. Делению нацело. Так находится количество целых яблок, приходящихся на каждого\n",
    "школьника.\n",
    "2. Нахождению остатка от деления нацело. Так находится количество яблок, оставшихся в\n",
    "корзине.\n",
    "В языке Python первая операция обозначается двумя знаками слэша // , вторая – знаком\n",
    "процента % "
   ]
  },
  {
   "cell_type": "code",
   "execution_count": 91,
   "id": "5787a19c-ce73-466d-a74d-f96f0638ee54",
   "metadata": {},
   "outputs": [
    {
     "name": "stdin",
     "output_type": "stream",
     "text": [
      "Количество школьников:  31\n",
      "Количество яблок:  100\n"
     ]
    },
    {
     "name": "stdout",
     "output_type": "stream",
     "text": [
      "У каждого школьника будет по 3 яблок\n",
      "В корзине останется 7 яблок\n"
     ]
    }
   ],
   "source": [
    "pupils = input(\"Количество школьников: \")\n",
    "apples = input(\"Количество яблок: \")\n",
    "pupils = int(pupils)\n",
    "apples = int(apples)\n",
    "apples_on_pupil = apples // pupils\n",
    "apples_in_basket = apples % pupils\n",
    "print(f\"У каждого школьника будет по {apples_on_pupil} яблок\")\n",
    "print(f\"В корзине останется {apples_in_basket} яблок\")"
   ]
  },
  {
   "cell_type": "markdown",
   "id": "50f897cc-5835-4c83-a15c-3ec21813b0e8",
   "metadata": {},
   "source": [
    "**Задача 2**\n",
    "Написать программу которая вычисляет сумму цифр трехзначного числа"
   ]
  },
  {
   "cell_type": "code",
   "execution_count": null,
   "id": "010217e1-7c7d-4aac-84b3-d4982fa505a1",
   "metadata": {},
   "outputs": [],
   "source": [
    "#ПРЕДПОЛАГАЕМОЕ РЕШЕНИЕ"
   ]
  },
  {
   "cell_type": "markdown",
   "id": "66e18a6d-3de6-4c4d-b93e-27eff85a2057",
   "metadata": {},
   "source": [
    "Чтобы извлечь отдельные цифры числа, следует воспользоваться операциями деления нацело // и нахождения остатка от деления % на 10.\n",
    "\n",
    "Если найти остаток от деления на 10 исходного трехзначного числа n, то получим последнюю цифру этого числа (d1). Если разделить нацело на 100 трехзначное число, то получим первую его цифру (d3).\n",
    "\n",
    "Чтобы получить вторую цифру (d2) трехзначного числа, сначала найдем остаток от деления на 100. Получим двузначное число – две последние цифры трехзначного числа. Потом разделим нацело на 10 и получим первую цифру этого двузначного числа."
   ]
  },
  {
   "cell_type": "code",
   "execution_count": 95,
   "id": "c388e7fa-5578-4500-aa56-622519f8ff49",
   "metadata": {},
   "outputs": [
    {
     "name": "stdin",
     "output_type": "stream",
     "text": [
      "Cлучайное число:  175\n"
     ]
    },
    {
     "name": "stdout",
     "output_type": "stream",
     "text": [
      "Сумма его цифр = 13\n"
     ]
    }
   ],
   "source": [
    "n = input(\"Cлучайное число: \")\n",
    "n = int(n)\n",
    "d1 = n % 10\n",
    "d2 = n % 100 // 10\n",
    "d3 = n // 100\n",
    "print(\"Сумма его цифр =\", d1 + d2 + d3)"
   ]
  },
  {
   "cell_type": "code",
   "execution_count": null,
   "id": "29cd25a2-2d9b-4ccf-bdd7-f929e313210a",
   "metadata": {},
   "outputs": [],
   "source": []
  },
  {
   "cell_type": "markdown",
   "id": "d0bcc963-a8a1-494a-91da-affac1caf3ed",
   "metadata": {},
   "source": [
    "# Основные операторы языка Python над числовыми значениями"
   ]
  },
  {
   "cell_type": "markdown",
   "id": "0a65fe08-5d6f-45a7-a90b-ce1f92c722b8",
   "metadata": {},
   "source": [
    "В языке Python, как и в других языках программирования, определены следующие группы операторов:\n",
    "1. Математические\n",
    "2. Двоичные\n",
    "3. Отношения\n",
    "4. Логические\n",
    "5. Присваивания\n",
    "   "
   ]
  },
  {
   "cell_type": "markdown",
   "id": "f86f4741-d5b8-495d-b0c2-66c50e477c19",
   "metadata": {},
   "source": [
    "### Математические операторы"
   ]
  },
  {
   "cell_type": "markdown",
   "id": "c19436a9-937a-4c7a-b421-5033b04bad2f",
   "metadata": {},
   "source": [
    "В Python есть **проблема возведения отрицательного числа в дробную степень**. Попробуем вычислить $\\sqrt[3]{a}$  в случае отрицательного числа a \"*в лоб*\"."
   ]
  },
  {
   "cell_type": "code",
   "execution_count": 45,
   "id": "e2a8a0fe-47fe-4971-888e-ba8c78d03be2",
   "metadata": {},
   "outputs": [
    {
     "name": "stdout",
     "output_type": "stream",
     "text": [
      "a= -8 a^(1/3)= (1.0000000000000002+1.7320508075688772j)\n"
     ]
    }
   ],
   "source": [
    "a=-8;\n",
    "b=a**(1/3);\n",
    "print(\"a=\",a,\"a^(1/3)=\",b);"
   ]
  },
  {
   "cell_type": "code",
   "execution_count": 47,
   "id": "3e700b08-de5c-41ab-a0be-17fb3fc1289c",
   "metadata": {},
   "outputs": [
    {
     "name": "stdin",
     "output_type": "stream",
     "text": [
      "a= -27\n"
     ]
    },
    {
     "name": "stdout",
     "output_type": "stream",
     "text": [
      "a= -27.0 a^(1/3)= -3.0\n"
     ]
    }
   ],
   "source": [
    "# Для корректного возведения отрицатедьного числа в степень надо использовать оператор if\n",
    "a=float(input('a='))\n",
    "if a>0:\n",
    "    b=a**(1/3)\n",
    "else:\n",
    "    b=-(abs(a)**(1/3))\n",
    "print(\"a=\",a,\"a^(1/3)=\",b);"
   ]
  },
  {
   "cell_type": "markdown",
   "id": "ba603b4f-3ebc-43ff-8c29-3b9e5304c5bf",
   "metadata": {},
   "source": [
    "### Двоичные (арифметические) операторы (битовые операторы)"
   ]
  },
  {
   "cell_type": "markdown",
   "id": "601aa3f7-172b-4904-9f22-fea63ee4ac9f",
   "metadata": {},
   "source": [
    "В языке Python можно выделить унарные и бинарные двоичные операторы над целыми значениями.\n",
    "\n",
    "Унарные операции:\n",
    "+ инверсия (~) - целое цисло переводится в двоичное представление и побитно интертируется;\n",
    "\n",
    "Бинарные операции:\n",
    " + *двоичное* **И** (&), оба операнда переводятся в двоичную систему и над ними побитно выполнняется операция операция **И**;\n",
    " + *двоичное* **ИЛИ** (|), оба операнда переводятся в двоичную систему и над ними побитно выполнняется операция операция **ИЛИ**;\n",
    " + *двоичное* **исключающее ИЛИ** (^), оба операнда переводятся в двоичную систему и над ними побитно выполнняется операция операция **исключающее ИЛИ**;\n",
    " + сдвиг влево **<<**, первый операнд переводим в двоичную систему счисления и смещаем влево на количество позиций, определяемых вторым операндом (k), эквивалентно умножению на $2^k$.\n",
    " + сдвиг вправо **>>**, первый операнд переводим в двоичную систему счисления и смещаем вправо на количество позиций, определяемых вторым операндом (k), эквивалентно делению *нацело* на $2^k$.\n",
    "\n",
    " Рассмотрим примеры использования."
   ]
  },
  {
   "cell_type": "code",
   "execution_count": 51,
   "id": "dd6ac23b-61d9-4ccc-97e9-d5960096efd4",
   "metadata": {},
   "outputs": [
    {
     "name": "stdout",
     "output_type": "stream",
     "text": [
      "13 00001101 -0001110 -14\n",
      "a= 13 b= 23 a&b= 5\n"
     ]
    }
   ],
   "source": [
    "#Пример операции инвертирования\n",
    "a=13; print(a,\"{:08b}\".format(a),\"{:08b}\".format(~a),~a);\n",
    "#Пример операции &\n",
    "a=13; b=23; c=a&b;\n",
    "print(\"a=\",a,\"b=\",b,\"a&b=\",c);\n"
   ]
  },
  {
   "cell_type": "code",
   "execution_count": 52,
   "id": "c734b4e6-df75-436e-af9b-9c9d0b9ed885",
   "metadata": {},
   "outputs": [
    {
     "name": "stdout",
     "output_type": "stream",
     "text": [
      "a= 13 b= 23 a|b= 31\n"
     ]
    }
   ],
   "source": [
    "#Пример операции |\n",
    "a=13; b=23; c=a|b;\n",
    "print(\"a=\",a,\"b=\",b,\"a|b=\",c);"
   ]
  },
  {
   "cell_type": "code",
   "execution_count": 53,
   "id": "7cd171a1-b22b-4f13-8bea-fabb040391e2",
   "metadata": {},
   "outputs": [
    {
     "name": "stdout",
     "output_type": "stream",
     "text": [
      "a= 13 b= 23 a^b= 26\n"
     ]
    }
   ],
   "source": [
    "#Пример операции ^\n",
    "a=13; b=23; c=a^b;\n",
    "print(\"a=\",a,\"b=\",b,\"a^b=\",c);\n"
   ]
  },
  {
   "cell_type": "code",
   "execution_count": 54,
   "id": "6ae04bde-35e6-4a15-a2ac-2f77f0d69cf4",
   "metadata": {},
   "outputs": [
    {
     "name": "stdout",
     "output_type": "stream",
     "text": [
      "23 46 92 184\n"
     ]
    }
   ],
   "source": [
    "#Пример операции сдвига <<\n",
    "a=23;print(a,a<<1,a<<2,a<<3)"
   ]
  },
  {
   "cell_type": "code",
   "execution_count": 55,
   "id": "dbf78fb1-7712-4562-984e-46e965af50cd",
   "metadata": {},
   "outputs": [
    {
     "name": "stdout",
     "output_type": "stream",
     "text": [
      "20 10 5 2\n"
     ]
    }
   ],
   "source": [
    "#Пример операции >>\n",
    "a=20\n",
    "print(a,a>>1,a>>2,a>>3);"
   ]
  },
  {
   "cell_type": "markdown",
   "id": "10d53ce2-147f-459a-8d86-771f796c50c6",
   "metadata": {},
   "source": [
    "### Операторы отношения\n"
   ]
  },
  {
   "cell_type": "markdown",
   "id": "b95799a8-eb2d-44a2-80f8-bc116dfca37e",
   "metadata": {},
   "source": [
    "В Python определены следующие операторы отношения: >, <, ==, !=, >= ,<=. Python позволяет проверять операции двойного неравенства, принятые в математике, например `-7<=x<3`."
   ]
  },
  {
   "cell_type": "code",
   "execution_count": 57,
   "id": "b7195149-3d34-4e03-a39a-908867c38f79",
   "metadata": {},
   "outputs": [
    {
     "name": "stdin",
     "output_type": "stream",
     "text": [
      "x= 17\n"
     ]
    },
    {
     "name": "stdout",
     "output_type": "stream",
     "text": [
      "False\n"
     ]
    }
   ],
   "source": [
    "x=float(input('x='));\n",
    "print(-7<x<=3)"
   ]
  },
  {
   "cell_type": "markdown",
   "id": "1301898a-e862-4bdc-8d99-a3edecb811b1",
   "metadata": {},
   "source": [
    "###  Логические операторы"
   ]
  },
  {
   "cell_type": "code",
   "execution_count": 58,
   "id": "2b2cd29b-56fd-4dd3-9ce8-43bf751e57fc",
   "metadata": {},
   "outputs": [
    {
     "name": "stdout",
     "output_type": "stream",
     "text": [
      "True\n"
     ]
    }
   ],
   "source": [
    "# Логические операторы языка Python: not, or и and.\n",
    "x=1;y=1;\n",
    "print(y<=x*x and y<3);"
   ]
  },
  {
   "cell_type": "markdown",
   "id": "e1d744b8-a671-4144-b76a-44801f00b9f5",
   "metadata": {},
   "source": [
    "###  Операторы присваивания"
   ]
  },
  {
   "cell_type": "code",
   "execution_count": 60,
   "id": "6b0cc79b-d1d4-4b82-a1aa-af6e4c22e06f",
   "metadata": {},
   "outputs": [
    {
     "name": "stdout",
     "output_type": "stream",
     "text": [
      "x= 3\n",
      "y= 0.06482626386771051 z= 0.06482626386771051\n",
      "x= 3 a= 4\n",
      "x+=a= 7\n",
      "x= 3 a= 4\n",
      "x-=a= -1\n",
      "x= 3 a= 4\n",
      "x*=a= 12\n",
      "x= 22 a= 5\n",
      "x/=a= 4.4\n",
      "x= 22 a= 5\n",
      "x//=a= 4\n",
      "x= 22 a= 5\n",
      "x%=a= 2\n",
      "x= 22 a= 5\n",
      "x**=a= 5153632\n"
     ]
    }
   ],
   "source": [
    "# Примеры операторов присваивания\n",
    "x=3;print(\"x=\",x);\n",
    "y=z=0.2**1.7;print(\"y=\",y,\"z=\",z);\n",
    "x=3;a=4;\n",
    "print(\"x=\",x,\"a=\",a);\n",
    "x+=a;\n",
    "print(\"x+=a=\",x);\n",
    "x=3;a=4;\n",
    "print(\"x=\",x,\"a=\",a);\n",
    "x-=a;\n",
    "print(\"x-=a=\",x);\n",
    "x=3;a=4;\n",
    "print(\"x=\",x,\"a=\",a);\n",
    "x*=a;\n",
    "print(\"x*=a=\",x);\n",
    "x=22;a=5;\n",
    "print(\"x=\",x,\"a=\",a);\n",
    "x/=a;\n",
    "print(\"x/=a=\",x);\n",
    "x=22;a=5;\n",
    "print(\"x=\",x,\"a=\",a);\n",
    "x//=a;\n",
    "print(\"x//=a=\",x);\n",
    "x=22;a=5;\n",
    "print(\"x=\",x,\"a=\",a);\n",
    "x%=a;\n",
    "print(\"x%=a=\",x);\n",
    "x=22;a=5;\n",
    "print(\"x=\",x,\"a=\",a);\n",
    "x**=a;\n",
    "print(\"x**=a=\",x);"
   ]
  },
  {
   "cell_type": "markdown",
   "id": "12e16806-6bd0-4ec6-9e0a-8cb297293a0e",
   "metadata": {},
   "source": [
    "###  Приоритеты операций"
   ]
  },
  {
   "cell_type": "markdown",
   "id": "7e1b7070-9bc6-4090-8799-28716047987c",
   "metadata": {},
   "source": [
    "\n",
    "1. Унарный минус, унарный +, **, ~\n",
    "1. *, %, /, //\n",
    "1.    +, -\n",
    "1.    <<, >>\n",
    "1.    &\n",
    "1.    ^\n",
    "1.    |\n",
    "1.    операции присваивания\n"
   ]
  },
  {
   "cell_type": "markdown",
   "id": "a0490f54-d8ef-4d43-a18a-f1e72ac63c00",
   "metadata": {},
   "source": [
    "## Встроенные функции, модуль math"
   ]
  },
  {
   "cell_type": "markdown",
   "id": "5c9c5174-b376-401f-8808-c1243cc39361",
   "metadata": {},
   "source": [
    "Рассмотрим некоторые встроеные функции Python, их немного. Основная масса функций хранится в модулях языка.\n",
    "\n",
    "+ **abs(x)** - модуль числа x;\n",
    "+ **round(x)** - округление числе x;\n",
    "+ **round(x,n)** - округляет число *x* до **n** знаков после запятой;\n",
    "+ **pow(x,y)** - полный аналог `x**y`;\n",
    "+ **divmod(x,y)** - выдаёт два числа: частное и остаток, обращаться следует так `q, r = divmod(x, y)`;\n",
    "+ **max(x1,x2, ...,xn)** -функция, которая возвращает наибольшее значение;\n",
    "+ **min(x1,x2, ...,xn)** -функция, которая возвращает наименьшее значение;\n",
    "\n",
    "  Ниже приведены примеры использования.  "
   ]
  },
  {
   "cell_type": "code",
   "execution_count": 63,
   "id": "5c547300-2789-4c18-b4b9-b05652e0b259",
   "metadata": {},
   "outputs": [
    {
     "name": "stdout",
     "output_type": "stream",
     "text": [
      "4.5\n",
      "4.98\n",
      "3\n",
      "4\n",
      "-3\n",
      "-4\n",
      "-3.25\n",
      "-3.7537\n"
     ]
    }
   ],
   "source": [
    "# Вычисление модуля\n",
    "print(abs(-4.5))\n",
    "print(abs(4.98))\n",
    "# округление\n",
    "print(round(3.3))\n",
    "print(round(3.8))\n",
    "print(round(-3.246))\n",
    "print(round(-3.753))\n",
    "print(round(-3.246,2))\n",
    "print(round(-3.75367,4))"
   ]
  },
  {
   "cell_type": "markdown",
   "id": "50603458-b834-4d8b-b4b3-e946835f02ab",
   "metadata": {},
   "source": [
    "Основная масса функций хранится в модулях языка. Для подключения (модуля) модуля используется оператор `import`. Можно загрузить содержимое модуля глобально.\n",
    "```\n",
    "from name_module import *\n",
    "```\n",
    "После этого можно пользоваться функциями из модуля, как встроенными. Однако, если функции с одинаковыми именами есть в различных модулях, то возникнут проблемы и конфликты.\n",
    "\n",
    "Поэтому классическим способом подключения модуля является следующий\n",
    "\n",
    "```\n",
    "import name_module\n",
    "```\n",
    "После этого для фызова функций из модуля необходимо указывать имя модуля и через точку имя функции.\n",
    "```\n",
    "name_module.name_function(par1,...parn)\n",
    "```\n",
    "\n",
    "Здесь *par1*, *par2*,…,*parn* – конкретные параметры функции.\n",
    "\n",
    "Стандартные математические функции работы с вещественными числами находятся в библиотеке **math**, с комплекными - **cmath**."
   ]
  },
  {
   "cell_type": "code",
   "execution_count": 64,
   "id": "6d1a6357-aabf-49d5-b32a-5c8257be7da7",
   "metadata": {},
   "outputs": [
    {
     "name": "stdin",
     "output_type": "stream",
     "text": [
      "x= 4.5\n"
     ]
    },
    {
     "data": {
      "text/plain": [
       "-0.977530117665097"
      ]
     },
     "execution_count": 64,
     "metadata": {},
     "output_type": "execute_result"
    }
   ],
   "source": [
    "import math\n",
    "x=float(input(\"x=\"))\n",
    "math.sin(x)"
   ]
  },
  {
   "cell_type": "markdown",
   "id": "7afb27ae-a2d0-42e5-8bc3-25a5b564bf7f",
   "metadata": {
    "jp-MarkdownHeadingCollapsed": true
   },
   "source": [
    "**Описание стандартные математические функций библиотеки math**\n",
    "+ math.ceil(X) – округление до ближайшего большего числа;\n",
    "+ math.copysign(X, Y) – возвращает число, имеющее модуль такой же, как и у числа X, а знак – как у числа Y;\n",
    "+ math.fabs(X) – модуль X;\n",
    "+ math.factorial(X) – факториал числа X;\n",
    "+ math.floor(X) – округление вниз;\n",
    "+ math.fmod(X, Y) – остаток от деления X на Y;\n",
    "+ math.frexp(X) – возвращает мантиссу и экспоненту числа;\n",
    "+ math.ldexp(X, I) – $X  2^i$, функция, обратная функции math.frexp();\n",
    "+ math.fsum(последовательность) – сумма всех членов последовательности. Эквивалент встроенной функции sum(), но math.fsum() более точна для чисел с плавающей точкой;\n",
    "+ math.isfinite(X) – является ли X числом;\n",
    "+ math.isinf(X) – является ли X бесконечностью;\n",
    "+ math.isnan(X) – является ли X NaN (Not a Number - не число);\n",
    "+ math.modf(X) – возвращает дробную и целую часть числа X; оба числа имеют тот же знак, что и X;\n",
    "+ math.trunc(X) – усекает значение X до целого;\n",
    "+ math.exp(X) – $e^X$;\n",
    "+ math.expm1(X) – $e^X - 1$, при X → 0 точнее, чем math.exp(X)-1;\n",
    "+ math.log(X, [base]) – логарифм X по основанию base. Если base не указан, вычисляется натуральный логарифм;\n",
    "+ math.log1p(X) – натуральный логарифм (1 + X). При X → 0 точнее, чем math.log(1+X);\n",
    "+ math.log10(X) – логарифм X по основанию 10;\n",
    "+ math.log2(X) – логарифм X по основанию 2;\n",
    "+ math.pow(X, Y) – $X^Y$;\n",
    "+ math.sqrt(X) – $\\sqrt{X}$;\n",
    "+ math.acos(X) – арккосинус X, в радианах;\n",
    "+ math.asin(X) – арксинус X, в радианах;\n",
    "+ math.atan(X) – арктангенс X, в радианах.\n",
    "+ math.atan2(Y, X) – арктангенс Y/X, в радианах, с учетом четверти, в которой находится точка (X, Y);\n",
    "+ math.cos(X) – косинус X (X указывается в радианах);\n",
    "+ math.sin(X) – синус X (X указывается в радианах);\n",
    "+ math.tan(X) – тангенс X (X указывается в радианах);\n",
    "+ math.hypot(X, Y) – вычисляет гипотенузу треугольника с катетами X и Y (math.sqrt(x * x + y * y));\n",
    "+ math.degrees(X) – конвертирует радианы в градусы;\n",
    "+ math.radians(X) – конвертирует градусы в радианы;\n",
    "+ math.cosh(X) – вычисляет гиперболический косинус;\n",
    "+ math.sinh(X) – вычисляет гиперболический синус;\n",
    "+ math.tanh(X) – вычисляет гиперболический тангенс;\n",
    "+ math.acosh(X) – вычисляет обратный гиперболический косинус;\n",
    "+ math.asinh(X) – вычисляет обратный гиперболический синус;\n",
    "+ math.atanh(X) – вычисляет обратный гиперболический тангенс;\n",
    "+ math.erf(X) – функция ошибок;\n",
    "+ math.erfc(X) – дополнительная функция ошибок (1 - math.erf(X));\n",
    "+ math.gamma(X) – гамма-функция X;\n",
    "+ math.lgamma(X) – натуральный логарифм гамма-функции X;\n",
    "+ math.pi – pi = 3.1415926;\n",
    "+ math.e – e = 2.718281."
   ]
  },
  {
   "cell_type": "markdown",
   "id": "b35ff319-0262-438f-963a-93f47e93ce89",
   "metadata": {},
   "source": [
    "## Примеры задач"
   ]
  },
  {
   "cell_type": "markdown",
   "id": "add60b88-785f-47b0-865c-8976849badff",
   "metadata": {},
   "source": [
    "**Задача 1**\n",
    "По введенному с клавиатуры радиусу вычислить длину соответствующей окружности и площадь круга. Формулы:  $$L = 2\\pi R, $$ $$S=\\pi R^2.$$ \n"
   ]
  },
  {
   "cell_type": "code",
   "execution_count": null,
   "id": "a86026e9-3ab4-4335-b59e-8e6b0eb56e86",
   "metadata": {},
   "outputs": [],
   "source": [
    "#ПРЕДПОЛАГАЕМОЕ РЕШЕНИЕ"
   ]
  },
  {
   "cell_type": "code",
   "execution_count": 98,
   "id": "ad1c6543-c205-4f02-9a8a-57412eaa9879",
   "metadata": {},
   "outputs": [
    {
     "name": "stdin",
     "output_type": "stream",
     "text": [
      "R =  14.1\n"
     ]
    },
    {
     "name": "stdout",
     "output_type": "stream",
     "text": [
      "L= 88.59\n",
      "S= 624.58\n"
     ]
    }
   ],
   "source": [
    "import math\n",
    "R = input(\"R = \")\n",
    "R = float(R)\n",
    "L = 2 * math.pi * R\n",
    "S = math.pi * math.pow(R, 2)\n",
    "print(\"L= %.2f\" % L)\n",
    "print(\"S= %.2f\" % S)"
   ]
  },
  {
   "cell_type": "markdown",
   "id": "2bb6002e-5c81-4784-9efe-97dda2cdeaa1",
   "metadata": {},
   "source": [
    "**Задача 2**\n",
    "\n",
    "Напишите программу, которая принимает целочисленные значения минут и переводит это значение в секунды."
   ]
  },
  {
   "cell_type": "code",
   "execution_count": 103,
   "id": "6ab9f7a9-61ef-4a3a-a41e-442339d4d372",
   "metadata": {},
   "outputs": [],
   "source": [
    "#ПРЕДПОЛАГАЕМОЕ РЕШЕНИЕ"
   ]
  },
  {
   "cell_type": "markdown",
   "id": "71e16887-e3d4-4e44-9e29-2b585a806638",
   "metadata": {},
   "source": [
    "**Задача 3**\n",
    "\n",
    "Напишите программу, которая принимает возраст (количество лет) и преобразует это значение в количество дней."
   ]
  },
  {
   "cell_type": "code",
   "execution_count": 100,
   "id": "4041b1d6-b4a0-434a-aa07-f1cf62083f54",
   "metadata": {},
   "outputs": [],
   "source": [
    "#ПРЕДПОЛАГАЕМОЕ РЕШЕНИЕ"
   ]
  },
  {
   "cell_type": "markdown",
   "id": "9d4b1f81-3976-4c1c-a783-5c6e68d13b00",
   "metadata": {},
   "source": [
    "**Задача 4**\n",
    "\n",
    "Необходимо написать программу, которая посчитает количество ног у всех животных на ферме. На ферме живут курочки, коровки, и свинки. Зная количество животных каждого вида, посчитайте, сколько всего ног у всех животных на ферме."
   ]
  },
  {
   "cell_type": "code",
   "execution_count": 101,
   "id": "87ee8535-228a-4a27-a10e-41b6bc63743d",
   "metadata": {},
   "outputs": [],
   "source": [
    "#ПРЕДПОЛАГАЕМОЕ РЕШЕНИЕ"
   ]
  },
  {
   "cell_type": "markdown",
   "id": "96ed3d35-7ebc-47bf-80b9-bbb5ff72b44f",
   "metadata": {},
   "source": [
    "**Задача 5**\n",
    "\n",
    "Создайте функцию, которая в качестве параметров принимает два числа и возвращает True, если эти числа равны, и False, если не равны."
   ]
  },
  {
   "cell_type": "code",
   "execution_count": 102,
   "id": "8902da5e-5136-46a5-8b91-710484396dcc",
   "metadata": {},
   "outputs": [],
   "source": [
    "#ПРЕДПОЛАГАЕМОЕ РЕШЕНИЕ"
   ]
  },
  {
   "cell_type": "markdown",
   "id": "dc6fa473-2ab5-4050-b2e5-d7a57d204b27",
   "metadata": {},
   "source": [
    "# Логические переменные и организация разветвлений в Python"
   ]
  },
  {
   "cell_type": "markdown",
   "id": "3147e601-d932-4412-a286-8338251f0cff",
   "metadata": {},
   "source": [
    "## Логические переменные и операции. Операции отношения\n",
    "\n"
   ]
  },
  {
   "cell_type": "markdown",
   "id": "17e3a30b-aaeb-4faa-8a83-a6162c69f3b1",
   "metadata": {},
   "source": [
    "Логический тип может принимать одно из двух значений *True* или *False*. В языке *Python* логический тип данных обозначается как *bool*, для приведения других типов данных к логическому существует функция *bool()*, работающая по следующим соглашениям:\n",
    "+ строки: пустая строка – ложь, непустая строка – истина;\n",
    "+ числа: нулевое число – ложь, ненулевое число (в том числе и меньшее единицы) – истина;\n",
    "+ функции – всегда истина.\n",
    "\n",
    "В Python определены следующие операторы отношения: >, <, ==, !=, >= ,<=.\n",
    "| Операторы  | Результат     |\n",
    "|---- |---------|\n",
    "| == | Возвращает True, если оба операнда равны. Иначе возвращает False|\n",
    "|!=      | Возвращает True, если оба операнда НЕ равны. Иначе возвращает False          |\n",
    "|> (больше чем)   | Возвращает True, если первый операнд больше второго                     |\n",
    "| < (меньше чем)  | Возвращает True, если первый операнд меньше второго                 |\n",
    "| >=(больше или равно)| Возвращает True, если первый операнд больше или равен второму|\n",
    "|<= (меньше или равно)|Возвращает True, если первый операнд меньше или равен второму|\n"
   ]
  },
  {
   "cell_type": "code",
   "execution_count": 75,
   "id": "09f16859-e0c9-4779-aea8-098924e41bb1",
   "metadata": {},
   "outputs": [
    {
     "name": "stdout",
     "output_type": "stream",
     "text": [
      "False\n",
      "True\n",
      "False\n",
      "True\n",
      "False\n"
     ]
    }
   ],
   "source": [
    "#Примеры операций сравнения:\n",
    "a = 5\n",
    "b = 6\n",
    "result = 5 == 6  # сохраняем результат операции в переменную\n",
    "print(result)  # False - 5 не равно 6\n",
    "print(a != b)  # True\n",
    "print(a > b)  # False - 5 меньше 6\n",
    "print(a < b)  # True\n",
    " \n",
    "bool1 = True\n",
    "bool2 = False\n",
    "print(bool1 == bool2)  # False - bool1 не равно bool2"
   ]
  },
  {
   "cell_type": "markdown",
   "id": "3ef292a0-d3bf-4bb9-bd2e-bfc1f365d66c",
   "metadata": {},
   "source": [
    "Для создания составных условных выражений применяются логические операции. В Python имеются следующие логические операторы:\n",
    "* Оператор and (логическое умножение) применяется к двум операндам: **x and y**.Сначала оператор and оценивает выражение x, и если оно равно False, то возвращается его значение. Если оно равно True, то оценивается второй операнд - y и возвращается значение y.\n",
    "* or (логическое сложение) также применяется к двум операндам: **x or y**. Сначала оператор or оценивает выражение x, и если оно равно True, то возвращается его значение. Если оно равно False, то оценивается второй операнд - y и возвращается значение y.\n",
    "* not (логическое отрицание). Возвращает True, если выражение равно False"
   ]
  },
  {
   "cell_type": "code",
   "execution_count": 80,
   "id": "6520d4d5-cff8-49f5-91ac-2720ee07ccc7",
   "metadata": {},
   "outputs": [
    {
     "name": "stdout",
     "output_type": "stream",
     "text": [
      "True\n"
     ]
    }
   ],
   "source": [
    "#Пример оператора and\n",
    "a = 22\n",
    "b = 58\n",
    "result = a > 21 and b == 58\n",
    "print(result)  "
   ]
  },
  {
   "cell_type": "code",
   "execution_count": 84,
   "id": "64edb55f-f928-47da-afd4-9c958f471b1e",
   "metadata": {},
   "outputs": [
    {
     "name": "stdout",
     "output_type": "stream",
     "text": [
      "True\n"
     ]
    }
   ],
   "source": [
    "#Пример оператора or\n",
    "a = 22\n",
    "b = 0\n",
    "result = a < 21 or b != 58\n",
    "print(result)  "
   ]
  },
  {
   "cell_type": "code",
   "execution_count": 88,
   "id": "21abf624-de5c-4d97-8a9e-486cd71c5cc8",
   "metadata": {},
   "outputs": [
    {
     "name": "stdout",
     "output_type": "stream",
     "text": [
      "False\n",
      "True\n"
     ]
    }
   ],
   "source": [
    "a = 22\n",
    "b = False\n",
    "print(not a > 21) \n",
    "print(not b) "
   ]
  },
  {
   "cell_type": "markdown",
   "id": "d76ef453-6e5b-4a97-b4d3-601837eb429f",
   "metadata": {},
   "source": [
    "## Условный оператор if"
   ]
  },
  {
   "cell_type": "markdown",
   "id": "8b3eeb79-d888-42b7-9f4c-0e5cc64466c7",
   "metadata": {},
   "source": [
    "В Python простейшая форма условного оператора имеет вид:\n",
    "\n",
    "```\n",
    " if логическое_выражение:\n",
    "\tоператоры, выполняемые, когда логическое\n",
    "\tвыражение истинно \n",
    "```\n",
    "В такой форме действия после двоеточия выполняются, если логическое выражение истинно. Если же оно ложно, программа ничего не делает и переходит к следующему оператору.\n",
    "Полная форма оператора **if**:\n",
    " ```\n",
    "if логическое_выражение:\n",
    "\tоператоры, выполняемые, когда логическое\n",
    "\tвыражение истинно\n",
    "else :\n",
    "\tоператоры, выполняемые, когда логическое\n",
    "\tвыражение ложно\n",
    "```\n",
    "Если нужно последовательно проверить несколько условий, используется расширенная форма с дополнительным оператором **elif** (сокращение от **else if**):\n",
    "```\n",
    "if логическое_выражение:\n",
    "\tоператоры, выполняемые, когда логическое\n",
    "\tвыражение истинно\n",
    "elif второе_логическое_выражение:\n",
    "\tоператоры, выполняемые, когда второе логическое\n",
    "\tвыражение истинно\n",
    "elif третье_логическое_выражение:\n",
    "\tоператоры, выполняемые, когда третье логическое\n",
    "\tвыражение истинно\n",
    "...\n",
    "else :\n",
    "\tоператоры, выполняемые, когда все логические\n",
    "\tвыражения ложны\n",
    "```\n",
    "\n",
    "Дополнительных условий и связанных с ними блоков **elif** может быть сколько угодно. Если некоторое условие оказалось истинным, соответствующий блок кода выполняется, и дальнейшие условия не проверяются.\n",
    "\n",
    "После двоеточия в конструкциях типа **if**, **else**, **elif** всегда идёт блок, выделенный отступом вправо. Большинство редакторов кода, в том числе и IDLE, делают этот отступ автоматически."
   ]
  },
  {
   "cell_type": "markdown",
   "id": "e86094a7-1d75-45a2-9c4c-af0bf1a5e964",
   "metadata": {},
   "source": [
    "### Примеры задач"
   ]
  },
  {
   "cell_type": "markdown",
   "id": "9ba7be59-bb41-4824-a11f-d090c0c7cdff",
   "metadata": {},
   "source": [
    "**Задача 1** Написать программу которая вычисляет сумму цифр трехзначного числа\n"
   ]
  },
  {
   "cell_type": "code",
   "execution_count": null,
   "id": "36128070-3b67-4ff3-9845-e2148cc551fe",
   "metadata": {},
   "outputs": [],
   "source": [
    "#А если ввести двухзначное число? Исправь программу, чтобы она работала корректно.\n",
    "n = input(\"Cлучайное число: \")\n",
    "n = int(n)\n",
    "d1 = n % 10\n",
    "d2 = n % 100 // 10\n",
    "d3 = n // 100\n",
    "print(\"Сумма его цифр =\", d1 + d2 + d3)"
   ]
  },
  {
   "cell_type": "markdown",
   "id": "d1823616-653f-459c-a188-b42e07291959",
   "metadata": {},
   "source": [
    "**Задача 2**\n",
    "\n",
    "В зависимости от того что выберет пользователь вычислить площадь либо прямоугольника $ S = ab$, либо треугольника $ S = \\sqrt{p( p−a)( p−b)( p−c )}$, где p– полупериметр, либо круга  $S=\\pi R^2.$  Если выбраны прямоугольник или треугольник, то надо запросить длины сторон,если круг, то его радиус"
   ]
  },
  {
   "cell_type": "code",
   "execution_count": null,
   "id": "7871ec0b-1831-406b-b039-696b0c14fe24",
   "metadata": {},
   "outputs": [],
   "source": [
    "#ПРЕДПОЛАГАЕМОЕ РЕШЕНИЕ"
   ]
  },
  {
   "cell_type": "code",
   "execution_count": 105,
   "id": "f347b74f-4a14-47ab-ad01-97ff40ea5e37",
   "metadata": {},
   "outputs": [
    {
     "name": "stdin",
     "output_type": "stream",
     "text": [
      "Выберите фигуру (1-прямоугольник, 2-треугольник, 3-круг):  4\n"
     ]
    },
    {
     "name": "stdout",
     "output_type": "stream",
     "text": [
      "Ошибка ввода\n"
     ]
    }
   ],
   "source": [
    "import math\n",
    "figure = input(\"Выберите фигуру (1-прямоугольник, 2-треугольник, 3-круг): \")\n",
    "if figure == '1':\n",
    "     print(\"Длины сторон прямоугольника:\")\n",
    "     a = float(input(\"a = \"))\n",
    "     b = float(input(\"b = \"))\n",
    "     print(\"Площадь: %.2f\" % (a * b))\n",
    "elif figure == '2':\n",
    "     print(\"Длины сторон треугольника:\")\n",
    "     a = float(input(\"a = \"))\n",
    "     b = float(input(\"b = \"))\n",
    "     c = float(input(\"c = \"))\n",
    "     p = (a + b + c) / 2\n",
    "     s = math.sqrt(p * (p - a) * (p - b) * (p - c))\n",
    "     print(\"Площадь: %.2f\" % s)\n",
    "elif figure == '3':\n",
    "     r = float(input(\"Радиус круга R = \"))\n",
    "     print(\"Площадь: %.2f\" % (math.pi * r ** 2))\n",
    "else:\n",
    "     print(\"Ошибка ввода\")"
   ]
  },
  {
   "cell_type": "markdown",
   "id": "46e38cfb-397c-4170-be5b-d3df33165f91",
   "metadata": {},
   "source": [
    "## Операторы цикла Python "
   ]
  },
  {
   "cell_type": "markdown",
   "id": "96a4eb91-fc9c-4da9-b670-a6452f026ddb",
   "metadata": {},
   "source": [
    "Существует два цикла в Python:\n",
    "\n",
    "+ while\n",
    "+ for"
   ]
  },
  {
   "cell_type": "markdown",
   "id": "302a71f7-d979-4856-8a7f-163960023a6e",
   "metadata": {},
   "source": [
    "###  Цикл while"
   ]
  },
  {
   "cell_type": "markdown",
   "id": "e34b8f32-cc54-4d99-9025-437485743d35",
   "metadata": {},
   "source": [
    "Цикл while (“пока”) позволяет выполнить одну и ту же последовательность действий, пока проверяемое условие истинно. Условие записывается до тела цикла и проверяется до выполнения тела цикла. Как правило, цикл while используется, когда невозможно определить точное значение количества проходов исполнения цикла. \n",
    "Общая структура цикла **while**\n",
    "\n",
    "```\n",
    "while условие:\n",
    "\tоператор 1\n",
    "\t…\n",
    "\tоператор n\n",
    "```\n",
    "\n",
    "При выполнении цикла while сначала проверяется условие. Если оно ложно, то выполнение цикла прекращается и управление передается на следующую инструкцию после тела цикла while. Если условие истинно, то выполняется инструкция, после чего условие проверяется снова и снова выполняется инструкция. Так продолжается до тех пор, пока условие будет истинно. Как только условие станет ложно, работа цикла завершится и управление передастся следующей инструкции после цикла.\n",
    "\n",
    "Например, следующий фрагмент программы напечатает на экран квадраты всех целых чисел от 1 до 10"
   ]
  },
  {
   "cell_type": "code",
   "execution_count": 73,
   "id": "585fd79c-2bfe-4f0e-bff2-704296a75e95",
   "metadata": {},
   "outputs": [
    {
     "name": "stdout",
     "output_type": "stream",
     "text": [
      "1\n",
      "4\n",
      "9\n",
      "16\n",
      "25\n",
      "36\n",
      "49\n",
      "64\n",
      "81\n",
      "100\n"
     ]
    }
   ],
   "source": [
    "i = 1\n",
    "while i <= 10:\n",
    "    print(i ** 2)\n",
    "    i += 1"
   ]
  },
  {
   "cell_type": "markdown",
   "id": "dffbc62d-c8ef-4501-8f3d-260cd35ac722",
   "metadata": {},
   "source": [
    "N=int(input('N='));\n",
    "kp=0;\n",
    "while(N!=0):\n",
    "    if N<0:\n",
    "        kp=kp+1;\n",
    "        if kp==1:\n",
    "            mx=N;\n",
    "        elif N>mx:\n",
    "            mx=N;\n",
    "    N=int(input('N='));\n",
    "print(mx);"
   ]
  },
  {
   "cell_type": "markdown",
   "id": "6ad3df8c-3c7b-46ec-b5e7-98385702c271",
   "metadata": {},
   "source": [
    "**Операторы управления циклом**. Оператор **continue** начинает следующий проход цикла, минуя оставшееся тело цикла (**for** или **while**). Оператор **break** досрочно прерывает цикл."
   ]
  },
  {
   "cell_type": "markdown",
   "id": "defdeb88-ff9a-4a74-b4d4-aa32a9283d6e",
   "metadata": {},
   "source": [
    "*Полная форма оператора* **while**\n",
    "```\n",
    "while условие:\n",
    "\tоператор 1\n",
    "\t…\n",
    "\tоператор n\n",
    "[else:\n",
    "\tоператор]\n",
    "```\n",
    "Как и в неполной форме оператора **while** на каждом шаге оператора  цикла условие, проверяется на истинность.\n",
    "Если выражение истинно, выполняется тело цикла, иначе тело цикла не выполняется, но выполняется блок *else*.\n",
    "Если в теле цикла встречается инструкция break, то цикл завершается, при этом блок *else* не выполняется."
   ]
  },
  {
   "cell_type": "markdown",
   "id": "3612faf7-168e-42dd-885c-ec8136637558",
   "metadata": {},
   "source": [
    "### Оператор for\n",
    "В Python оператор цикла **for** позволяет пройтись по всем элементам любой последовательности (строки, списка, кортежа и т.д.)\n",
    "Напомним, что для формирования списков из целочисленных элементов служит функция **range(n,k,d)**.\n",
    "```\n",
    "for i in seq:\n",
    "\tоператор1;\n",
    "\tоператор2;\n",
    "\t...\n",
    "\tоператорn;\n",
    "[else:\n",
    "\tоператор]\n",
    "```\n",
    "Переменная цикла **i** пробегает все значения из последовательности **seq**. При каждом значении выполняются операторы (тело цикла).\n",
    "По окончанию цикла выполняется блок *else*.\n",
    "Если в теле цикла встречается инструкция **break**, то цикл завершается, при этом блок *else* не выполняется."
   ]
  },
  {
   "cell_type": "markdown",
   "id": "efd4a21f-1190-4afc-b812-479fa80bbe20",
   "metadata": {},
   "source": [
    "### Примеры задач"
   ]
  },
  {
   "cell_type": "markdown",
   "id": "7383bbeb-7f81-43a8-b499-4c2597fb34f6",
   "metadata": {},
   "source": [
    "**Задача 1**\n",
    "\n",
    "Стрессовая ситуация: идет контрольная работа, в ходе которой надо написать программу. Вы знаете решение своего соседа по парте. Допишите цикл for таким образом, чтобы итоговый вывод программы совпадал с выводом программы соседа. \n",
    "\n",
    "*Сосед по парте написал*\n",
    "\n",
    "```\n",
    "i = 0\n",
    "while i < 10:\n",
    "    print(i)\n",
    "    i = i + 1\n",
    "```\n",
    "\n",
    "\n",
    "*Мое решение*\n",
    "\n",
    "```\n",
    "for ??? in range(???):\n",
    "    print(i)\n",
    "```"
   ]
  },
  {
   "cell_type": "code",
   "execution_count": null,
   "id": "3ea9820f-2a93-4da8-a96f-3bf014f52124",
   "metadata": {},
   "outputs": [],
   "source": [
    "for ??? in range(???):\n",
    "    print(i)"
   ]
  },
  {
   "cell_type": "markdown",
   "id": "5d498ebf-8810-44d0-84b7-614c72587c9f",
   "metadata": {},
   "source": [
    "**Задача 2** Напишите цикл который считает количество разрядов введенного с клавиатуры числа."
   ]
  },
  {
   "cell_type": "code",
   "execution_count": null,
   "id": "7d2da97c-12bf-4ee3-ad68-b1ddccd28a64",
   "metadata": {},
   "outputs": [],
   "source": [
    "#ПРЕДПОЛАГАЕМОЕ РЕШЕНИЕ"
   ]
  },
  {
   "cell_type": "code",
   "execution_count": 108,
   "id": "2b80f0d3-709b-44c3-adab-3c50df66a526",
   "metadata": {},
   "outputs": [
    {
     "name": "stdin",
     "output_type": "stream",
     "text": [
      " 547821\n"
     ]
    },
    {
     "name": "stdout",
     "output_type": "stream",
     "text": [
      "6\n"
     ]
    }
   ],
   "source": [
    "n = int(input())\n",
    "n = abs(n)\n",
    "a = 1\n",
    "n //= 10\n",
    "\n",
    "while n > 0:\n",
    "  n //= 10\n",
    "  a += 1\n",
    "print(a)"
   ]
  },
  {
   "cell_type": "markdown",
   "id": "bd9b7f54-2a62-4dad-8953-64ff3a46047a",
   "metadata": {},
   "source": [
    "**Задача 3** Определить сколько в числе четных цифр, а сколько нечетных. Число вводится с клавиатуры."
   ]
  },
  {
   "cell_type": "code",
   "execution_count": null,
   "id": "916a1422-0589-472f-aba1-5a8d8e6296bf",
   "metadata": {},
   "outputs": [],
   "source": [
    "#ПРЕДПОЛАГАЕМОЕ РЕШЕНИЕ"
   ]
  },
  {
   "cell_type": "markdown",
   "id": "910e92e1-e0da-47a9-a8ec-1bb0309d671d",
   "metadata": {},
   "source": [
    "Если число делится без остатка на 2, его последняя цифра четная. Увеличиваем на 1 счетчик четных цифр even. Иначе последняя цифра числа нечетная, увеличиваем счетчик нечетных цифр odd.\n"
   ]
  },
  {
   "cell_type": "code",
   "execution_count": 113,
   "id": "344dc4a1-2d84-4dce-bff5-8ea9e47e2cef",
   "metadata": {},
   "outputs": [
    {
     "name": "stdin",
     "output_type": "stream",
     "text": [
      " 65439\n"
     ]
    },
    {
     "name": "stdout",
     "output_type": "stream",
     "text": [
      "Even: 2, odd: 3\n"
     ]
    }
   ],
   "source": [
    "a = int(input())\n",
    "even = 0\n",
    "odd = 0\n",
    "if a == 0:\n",
    "    even = 1\n",
    "while a > 0:\n",
    "    if a % 2 == 0:\n",
    "        even += 1\n",
    "    else:\n",
    "        odd += 1\n",
    "    a = a // 10\n",
    "    \n",
    "print(f\"Even: {even}, odd: {odd}\")"
   ]
  },
  {
   "cell_type": "markdown",
   "id": "418fb8f4-2015-4da3-a778-0cf661ad33ba",
   "metadata": {},
   "source": [
    "**Задача 4**"
   ]
  },
  {
   "cell_type": "markdown",
   "id": "943e9a1b-8607-4d09-afe9-293f849184b6",
   "metadata": {},
   "source": [
    "Вводится натуральное число. Найти сумму и произведение цифр из которых состоит это число.Например сумма цифр числа 223  равна 7, а произведение равно 12."
   ]
  },
  {
   "cell_type": "markdown",
   "id": "fcf144e1-8c65-44f6-b818-a75cc7d91432",
   "metadata": {},
   "source": [
    "**Подсказка**\n",
    "\n",
    "Если число разделить нацело на 10, произойдет \"потеря\" последней цифры числа. Например, 223 ÷ 10 = 22 (остаток 3). Эта потерянная цифра есть остаток от деления. Получив эту цифру, мы можем добавить ее к сумме цифр и умножить на нее произведение цифр числа.\n",
    "\n",
    "Пусть n – само число, suma – сумма его цифр, а mult – произведение. Тогда алгоритм нахождения суммы и произведения цифр можно словесно описать так:\n",
    "1. Переменной suma присвоить ноль.\n",
    "2. Переменной mult присвоить единицу. Присваивать 0 нельзя, так как при умножении на\n",
    "ноль результат будет нулевым.\n",
    "3. Пока значение переменной n больше нуля повторять следующие действия:\n",
    "  * Найти остаток от деления значения n на 10, то есть извлечь последнюю цифру числа.\n",
    "  * Добавить извлеченную цифру к сумме и увеличить на эту цифру произведение.\n",
    "  * Избавиться от последнего разряда числа n путем деления нацело на 10.\n"
   ]
  },
  {
   "cell_type": "code",
   "execution_count": 115,
   "id": "5e5c7816-13c7-4642-826a-aaddf0903d5c",
   "metadata": {},
   "outputs": [
    {
     "name": "stdin",
     "output_type": "stream",
     "text": [
      "Натуральное число:  4751\n"
     ]
    },
    {
     "name": "stdout",
     "output_type": "stream",
     "text": [
      "Сумма: 17\n",
      "Произведение: 140\n"
     ]
    }
   ],
   "source": [
    "n = int(input(\"Натуральное число: \"))\n",
    "\n",
    "suma = 0\n",
    "mult = 1\n",
    "\n",
    "while n > 0:\n",
    "    #Необходимо дописать тело цикла, так чтобы программа заработала.\n",
    "    #\n",
    "    #\n",
    "    #\n",
    "    #\n",
    "print(\"Сумма:\", suma)\n",
    "print(\"Произведение:\", mult)"
   ]
  },
  {
   "cell_type": "markdown",
   "id": "e946f3bc-c6de-4f67-aebc-63b0ec200c30",
   "metadata": {},
   "source": [
    "**Задача 5**\n",
    "Вывести число обратное введенному по порядку составляющих его цифр. Например введено3425, надо вывести 5243. Задачу решить арифметическим способом.\n",
    "*Подсказка*\n",
    "1. Найдем остаток от деления на 10 исходного числа n. Тем самым получим последнюю его\n",
    "цифру ost.\n",
    "2. Добавим эту цифру к новому числу m.\n",
    "3. Разделим нацело на 10 число n. Тем самым избавимся от последней цифры в нем.\n",
    "4. Снова найдем остаток от деления на 10 того, что осталось от числа n. Запомним эту\n",
    "цифру в ost.\n",
    "5. Умножим на 10 второе число m. Тем самым увеличим его разрядность до двух и сдвинем\n",
    "первую цифру в разряд десятков.\n",
    "6. Добавим к полученному второму числу запомненную ранее цифру из первого числа.\n",
    "7. Будем повторять действия п. 3-6 пока исходное число не уменьшится до нуля, т. е. пока не\n",
    "избавимся от всех его разрядов"
   ]
  },
  {
   "cell_type": "code",
   "execution_count": null,
   "id": "1b1653fb-9990-4a11-9657-c8527b62999b",
   "metadata": {},
   "outputs": [],
   "source": [
    "#ПРЕДПОЛАГАЕМОЕ РЕШЕНИЕ"
   ]
  },
  {
   "cell_type": "code",
   "execution_count": 117,
   "id": "2352a6fb-0cf4-4156-b25c-9de2e5f24510",
   "metadata": {},
   "outputs": [
    {
     "name": "stdin",
     "output_type": "stream",
     "text": [
      "Введите целое неотрицательно число:  245\n"
     ]
    },
    {
     "name": "stdout",
     "output_type": "stream",
     "text": [
      "\"Обратное\" ему число: 542\n"
     ]
    }
   ],
   "source": [
    "n= int(input(\"Введите целое неотрицательно число: \"))\n",
    "m = 0\n",
    "while n > 0:\n",
    "    ost = n % 10 # находим остаток - последнюю цифру числа\n",
    "    n = n // 10 # делим нацело - убираем из числа последнюю цифру\n",
    "    m = m * 10 # увеличиваем разрядность второго числа\n",
    "    m = m + ost # добавляем очередную цифру\n",
    "    \n",
    "print('\"Обратное\" ему число:', m)"
   ]
  },
  {
   "cell_type": "markdown",
   "id": "80e1a2ff-84e4-4822-a7f9-764f74076cb7",
   "metadata": {},
   "source": [
    "**Задача 6** Выведите на экран таблицу умножения.\n",
    "\n",
    "*Подсказка*\n",
    "\n",
    "Особенностью данной задачи является необходимость использования вложенного цикла. Во внешнем цикле меняется один множитель, во внутреннем – второй. Один оборот внешнего цикла формирует целую строчку таблицы. Один оборот внутреннего – вычисляет один элемент в строке."
   ]
  },
  {
   "cell_type": "code",
   "execution_count": null,
   "id": "4868cf11-8c6e-48ee-b9da-7a914633031b",
   "metadata": {},
   "outputs": [],
   "source": [
    "#ПРЕДПОЛАГАЕМОЕ РЕШЕНИЕ"
   ]
  },
  {
   "cell_type": "code",
   "execution_count": 119,
   "id": "e101ca1d-3306-40a4-b3d4-8986ccf7a02e",
   "metadata": {},
   "outputs": [
    {
     "name": "stdout",
     "output_type": "stream",
     "text": [
      "   1   2   3   4   5   6   7   8   9\n",
      "   2   4   6   8  10  12  14  16  18\n",
      "   3   6   9  12  15  18  21  24  27\n",
      "   4   8  12  16  20  24  28  32  36\n",
      "   5  10  15  20  25  30  35  40  45\n",
      "   6  12  18  24  30  36  42  48  54\n",
      "   7  14  21  28  35  42  49  56  63\n",
      "   8  16  24  32  40  48  56  64  72\n",
      "   9  18  27  36  45  54  63  72  81\n"
     ]
    }
   ],
   "source": [
    "#Решение задачи с помощью циклов while \n",
    "i = 1\n",
    "while i < 10:\n",
    "    j = 1\n",
    "    while j < 10:\n",
    "        print(\"%4d\" % (i * j), end=\"\")\n",
    "        j += 1\n",
    "    print()\n",
    "    i += 1"
   ]
  },
  {
   "cell_type": "code",
   "execution_count": 3,
   "id": "c686c061-02bd-42b9-ab12-8ca9dfb0ec16",
   "metadata": {},
   "outputs": [
    {
     "name": "stdout",
     "output_type": "stream",
     "text": [
      "   1   2   3   4   5   6   7   8   9\n",
      "   2   4   6   8  10  12  14  16  18\n",
      "   3   6   9  12  15  18  21  24  27\n",
      "   4   8  12  16  20  24  28  32  36\n",
      "   5  10  15  20  25  30  35  40  45\n",
      "   6  12  18  24  30  36  42  48  54\n",
      "   7  14  21  28  35  42  49  56  63\n",
      "   8  16  24  32  40  48  56  64  72\n",
      "   9  18  27  36  45  54  63  72  81\n"
     ]
    }
   ],
   "source": [
    "#Решение задачи с помощью циклов for \n",
    "for i in range(1, 10):\n",
    "    for j in range(1, 10):\n",
    "        print(\"%4d\" % (i*j), end='')\n",
    "    print()"
   ]
  },
  {
   "cell_type": "markdown",
   "id": "76f0d46e-ee50-413e-91dc-381e01284bd8",
   "metadata": {},
   "source": [
    "## ОГЭ ИНФОРМАТИКА 16 ЗАДАНИЕ"
   ]
  },
  {
   "cell_type": "markdown",
   "id": "f86767d8-697c-4051-af81-c2e6f819c1dd",
   "metadata": {},
   "source": [
    "**Задача 1** *(Демоверсия 2025)*\n",
    "\n",
    "Ученики 4 класса вели дневники наблюдения за погодой и ежедневно записывали дневную температуру. \n",
    "Найдите среднюю температуру для дней, когда температура поднималась выше нуля градусов и выведите ее. Гарантируется, что за время наблюдения хотя бы в один из дней температура поднималась выше нуля градусов.\n",
    "Программа получает на вход количество дней, в течение которых проводилось наблюдение N (1 ≤ N ≤ 31), затем для каждого дня вводится температура.\n",
    "\n",
    "**Пример**\n",
    "| Входные данные  | Выходные данные     |\n",
    "|---- |---------|\n",
    "| 4| 10|\n",
    "|-5| 2 |\n",
    "|12|   |\n",
    "|-2|   |\n",
    "|8|    |\n"
   ]
  },
  {
   "cell_type": "code",
   "execution_count": 123,
   "id": "2fade618-d998-45a4-8d5e-b0aa4ca7be11",
   "metadata": {},
   "outputs": [
    {
     "name": "stdin",
     "output_type": "stream",
     "text": [
      " 4\n",
      " -5\n",
      " 12\n",
      " -2\n",
      " 8\n"
     ]
    },
    {
     "name": "stdout",
     "output_type": "stream",
     "text": [
      "10.0\n",
      "2\n"
     ]
    }
   ],
   "source": [
    "n = int(input())# количество наблюдаемых дней\n",
    "temper_sr = 0\n",
    "schet = 0\n",
    "for i in range(n):\n",
    "    x = int(input()) #температура каждого дня\n",
    "    if x > 0: #если температура выше 0\n",
    "#то, подсчитываем количество таких дней и температуру каждый день\n",
    "        temper_sr += x\n",
    "        schet +=1\n",
    "print(temper_sr / schet)  #средняя температура\n",
    "print(schet)  #количество дней"
   ]
  },
  {
   "cell_type": "markdown",
   "id": "c68dc76b-7e3a-44cd-be58-e61f3167d9ed",
   "metadata": {},
   "source": [
    "**Задача 2** *(Количество чисел)*\n",
    "\n",
    "Напишите программу, которая в последовательности натуральных чисел определяет количество чисел, кратных 3. Программа получает на вход количество чисел в последовательности, а затем сами числа. В последовательности всегда имеется число, кратное 3. Количество чисел не превышает 1000. Введённые числа не превышают 30 000. Программа должна вывести одно число  — количество чисел, кратных 3.\n",
    "\n",
    "**Пример**\n",
    "| Входные данные  | Выходные данные     |\n",
    "|---- |---------|\n",
    "| 4| 2|\n",
    "|15|  |\n",
    "|26|   |\n",
    "|24|   |\n",
    "|7|    |\n"
   ]
  },
  {
   "cell_type": "code",
   "execution_count": 131,
   "id": "a4caeacf-ae9c-4e55-a178-f5dc62dccf86",
   "metadata": {},
   "outputs": [
    {
     "name": "stdin",
     "output_type": "stream",
     "text": [
      " 4\n",
      " 15\n",
      " 26\n",
      " 28\n",
      " 7\n"
     ]
    },
    {
     "name": "stdout",
     "output_type": "stream",
     "text": [
      "1\n"
     ]
    }
   ],
   "source": [
    "#Решение\n",
    "n=int(input())\n",
    "k=0\n",
    "for i in range(n):\n",
    "    a=int(input())\n",
    "    if a%3==0:\n",
    "        k=k+1\n",
    "\n",
    "print(k)"
   ]
  },
  {
   "cell_type": "markdown",
   "id": "1794f5ed-5a0d-406e-9251-2a3e274721d7",
   "metadata": {},
   "source": [
    "В первой строчке мы запрашиваем число n. Переменная k отвечает за количество найденных чисел, удовлетворяющих условию задачи. В начале количество найденных чисел равно нулю.\n",
    "\n",
    "Затем идёт ЦИКЛ for. Цикл повторяется n раз. Внутри цикла запрашиваем число a. Это очередное число в нашей последовательности. Это число проверяется с помощью условия if (переводится, как ЕСЛИ). Если остаток от деления на 3 равен нулю, то число a делится на 3. \n",
    "\n",
    "Если условие будет истинным, то будет выполняться строчка k=k+1. Т.е., если мы нашли число, которое кратно 3, то прибавляем единицу к счётчику k. Если условие не выполняется (ложно), то строка k=k+1 не выполняется.\n",
    "\n",
    "После того, как весь цикл прокрутится, в переменной k будет сидеть ответ."
   ]
  },
  {
   "cell_type": "markdown",
   "id": "7c1491d5-45ac-4fa5-a1a7-ed736c553e8b",
   "metadata": {},
   "source": [
    "**Задача 3.** *(Проверяем, на что оканчивается число)*\n",
    "\n",
    "Напишите программу, которая в последовательности натуральных чисел определяет количество чисел, оканчивающихся на 4. Программа получает на вход количество чисел в последовательности, а затем сами числа. В последовательности всегда имеется число, оканчивающееся на 4. Количество чисел не превышает 1000. Введённые числа не превышают 30 000. Программа должна вывести одно число  — количество чисел, оканчивающихся на 4.\n",
    "**Пример**\n",
    "| Входные данные  | Выходные данные     |\n",
    "|---- |---------|\n",
    "| 3|1|\n",
    "|26|  |\n",
    "|33|   |\n",
    "|24|   |\n",
    "\n"
   ]
  },
  {
   "cell_type": "code",
   "execution_count": null,
   "id": "a700b3d4-f47c-451b-a2a4-acd56e075bba",
   "metadata": {},
   "outputs": [],
   "source": [
    "#Решение\n",
    "n=int(input())\n",
    "k=0\n",
    "for i in range(n):\n",
    "    a=int(input())\n",
    "    if a%10==4:\n",
    "        k=k+1\n",
    "\n",
    "print(k)"
   ]
  },
  {
   "cell_type": "markdown",
   "id": "21ed714e-1eae-4995-b711-8cde8a60c4ed",
   "metadata": {},
   "source": [
    "   Эта программа отличается от предыдущей тем, что нужно количество чисел, которые оканчиваются на цифру 4.\n",
    "\n",
    "Для того, чтобы найти на что оканчивается положительное число, достаточно взять остаток от деления на 10.\n",
    "\n",
    "Пример:\n",
    "\n",
    "16 : 10 = 1 (остаток 6)\n",
    "\n",
    "28 : 10 = 2 (остаток 8)\n",
    "\n",
    "432 : 10 = 43 (остаток 2) "
   ]
  },
  {
   "cell_type": "markdown",
   "id": "f299d285-9c4e-4d4f-b4b8-ef4c5cb99398",
   "metadata": {},
   "source": [
    "**Задача 4 (Сумма элементов, сложное условие)**\n",
    "\n",
    "Напишите программу, которая в последовательности натуральных чисел определяет сумму чисел, кратных 3 и оканчивающихся на 1. Программа получает на вход количество чисел в последовательности, а затем сами числа. В последовательности всегда имеется число, кратное 3 и оканчивающееся на 1. Количество чисел не превышает 100. Введённые числа не превышают 300. Программа должна вывести одно число  — сумму чисел, кратных 3 и оканчивающихся на 1.\n",
    "\n",
    "**Пример**\n",
    "| Входные данные  | Выходные данные     |\n",
    "|---- |---------|\n",
    "| 5|6603|\n",
    "|21|  |\n",
    "|51|   |\n",
    "|6531|   |\n",
    "|121||\n",
    "|22||\n"
   ]
  },
  {
   "cell_type": "code",
   "execution_count": 140,
   "id": "aceab565-844f-48e8-8ffc-2e42eb592ef1",
   "metadata": {},
   "outputs": [
    {
     "name": "stdin",
     "output_type": "stream",
     "text": [
      " 5\n",
      " 21\n",
      " 51\n",
      " 6531\n",
      " 121\n",
      " 22\n"
     ]
    },
    {
     "name": "stdout",
     "output_type": "stream",
     "text": [
      "6603\n"
     ]
    }
   ],
   "source": [
    "#Решение\n",
    "n=int(input())\n",
    "sm=0\n",
    "for i in range(n):\n",
    "    a=int(input())\n",
    "    if a%3==0 and a%10==1:\n",
    "        sm=sm+a\n",
    "\n",
    "print(sm)"
   ]
  },
  {
   "cell_type": "markdown",
   "id": "d0ca6a16-c5cf-4b3d-a29a-c8ceeced1ae9",
   "metadata": {},
   "source": [
    "**Задача 5 (Трёхзначные числа)**\n",
    "\n",
    "Напишите программу, которая в последовательности натуральных чисел определяет сумму трехзначных нечётных чисел, кратных 7. Программа получает на вход количество чисел в последовательности, а затем сами числа. В последовательности всегда имеется трёхзначное нечётное число, кратных 7. Количество чисел не превышает 100. Введённые числа не превышают 300. Программа должна вывести одно число  — сумму трёхзначных нечётных чисел, кратных 7.\n",
    "\n",
    "**Пример**\n",
    "| Входные данные  | Выходные данные     |\n",
    "|---- |---------|\n",
    "| 5|896|\n",
    "|441|  |\n",
    "|455|   |\n",
    "|294|   |\n",
    "|121||\n",
    "|2261||"
   ]
  },
  {
   "cell_type": "code",
   "execution_count": null,
   "id": "b14dfd2d-ce7d-4ea1-87fc-69114dd1746d",
   "metadata": {},
   "outputs": [],
   "source": [
    "#Решение\n",
    "n=int(input())\n",
    "sm=0\n",
    "for i in range(n):\n",
    "    a=int(input())\n",
    "    if a%2!=0 and a%7==0 and a > 99 and a < 1000:\n",
    "        sm=sm+a\n",
    "\n",
    "print(sm)"
   ]
  },
  {
   "cell_type": "markdown",
   "id": "93e23a94-a8f0-458d-b47a-cf554ce3ad26",
   "metadata": {},
   "source": [
    "**Задача 6 (Максимальное значение)**\n",
    "\n",
    "Напишите программу, которая в последовательности натуральных чисел определяет максимальное число, кратное 8. Программа получает на вход количество чисел в последовательности, а затем сами числа. В последовательности всегда имеется число, кратное 8. Количество чисел не превышает 1000. Введённые числа не превышают 30 000. Программа должна вывести одно число  — максимальное число, кратное 8.\n",
    "\n",
    "**Пример**\n",
    "| Входные данные  | Выходные данные     |\n",
    "|---- |---------|\n",
    "| 4|64|\n",
    "|56|  |\n",
    "|431|   |\n",
    "|64|   |\n",
    "|90||"
   ]
  },
  {
   "cell_type": "code",
   "execution_count": 136,
   "id": "b09bd824-0b56-4efe-b4d5-85b384b49f1b",
   "metadata": {},
   "outputs": [
    {
     "name": "stdin",
     "output_type": "stream",
     "text": [
      " 2\n",
      " 45\n",
      " 7\n"
     ]
    },
    {
     "name": "stdout",
     "output_type": "stream",
     "text": [
      "0\n"
     ]
    }
   ],
   "source": [
    "#Решение\n",
    "n=int(input())\n",
    "mx=0\n",
    "for i in range(n):\n",
    "    a=int(input())\n",
    "    if a%8==0:\n",
    "        mx=max(mx, a)\n",
    "\n",
    "print(mx)\n",
    "\n"
   ]
  },
  {
   "cell_type": "markdown",
   "id": "26029a66-6519-4a5e-955c-f09111c2fd1f",
   "metadata": {},
   "source": [
    "\n",
    "Здесь уже заводим переменную mx для максимального значения, которое делится на 8. Она и пойдёт в ответ.\n",
    "\n",
    "Нас интересуют только числа, которые делятся на 8. Если это так, числа a претендуют, чтобы попасть в переменную mx. Функция max() выбирает среди двух значений наибольшее. Если a больше, чем значение, которое находится в mx в данный момент времени, то оно перезапишется в переменную mx.\n",
    "\n",
    "В начале в mx самое маленькое число 0, чтобы его легко было \"победить\". Последующее число будет \"победить\" уже сложнее. После прохождения всего цикла в переменной mx будет находится максимальное число."
   ]
  },
  {
   "cell_type": "markdown",
   "id": "8242c082-480d-4a61-8f9b-40e0876aee83",
   "metadata": {},
   "source": [
    "**Задача 7(Минимальное значение)**\n",
    "\n",
    "Напишите программу, которая в последовательности натуральных чисел определяет минимальное число, оканчивающееся на 6. Программа получает на вход количество чисел в последовательности, а затем сами числа. В последовательности всегда имеется число, оканчивающееся на 6. Количество чисел не превышает 1000. Введённые числа не превышают 30 000. Программа должна вывести одно число  — минимальное число, оканчивающееся на 6.\n",
    "\n",
    "**Пример**\n",
    "| Входные данные  | Выходные данные     |\n",
    "|---- |---------|\n",
    "| 4|56|\n",
    "|56|  |\n",
    "|500|   |\n",
    "|86|   |\n",
    "|13||"
   ]
  },
  {
   "cell_type": "code",
   "execution_count": 143,
   "id": "85a5fc57-9964-47a7-a7ca-5b819e70d974",
   "metadata": {},
   "outputs": [
    {
     "name": "stdin",
     "output_type": "stream",
     "text": [
      " 4\n",
      " 56\n",
      " 500\n",
      " 86\n",
      " 11\n"
     ]
    },
    {
     "name": "stdout",
     "output_type": "stream",
     "text": [
      "56\n"
     ]
    }
   ],
   "source": [
    "#Решение\n",
    "n=int(input())\n",
    "mn=30001\n",
    "for i in range(n):\n",
    "    a=int(input())\n",
    "    if a%10==6:\n",
    "        mn=min(mn, a)\n",
    "if mn==30001:\n",
    "    print(\"ошибка\")\n",
    "else :\n",
    "    print(mn)"
   ]
  },
  {
   "cell_type": "markdown",
   "id": "48b69b05-7a0f-49ef-9a81-9e50f2aafcac",
   "metadata": {},
   "source": [
    "**Задача 8(Последовательность оканчивается нулём)**\n",
    "\n",
    "Напишите программу, которая в последовательности натуральных чисел вычисляет сумму всех двузначных чисел, кратных 5. Программа получает на вход натуральные числа, количество введённых чисел неизвестно, последовательность чисел заканчивается числом 0 (0 – признак окончания ввода, не входит в последовательность). Количество чисел не превышает 1000. Введённые числа не превышают 30 000. Программа должна вывести одно число: сумму всех двузначных чисел, кратных 5.\n",
    "\n",
    "**Пример**\n",
    "| Входные данные  | Выходные данные     |\n",
    "|---- |---------|\n",
    "| 55|80|\n",
    "|120|  |\n",
    "|25|   |\n",
    "|68|   |\n",
    "|0||"
   ]
  },
  {
   "cell_type": "code",
   "execution_count": null,
   "id": "418fc845-8ea7-46a1-a857-081ae2199f34",
   "metadata": {},
   "outputs": [],
   "source": [
    "#Решение\n",
    "a=int(input())\n",
    "sm=0\n",
    "while a!=0:\n",
    "    if a%5==0 and a > 9 and a < 100:\n",
    "        sm=sm+a\n",
    "    a=int(input())\n",
    "\n",
    "print(sm)"
   ]
  },
  {
   "cell_type": "markdown",
   "id": "49a63739-d2d7-4e1f-ab8b-e994c8969215",
   "metadata": {},
   "source": [
    "Здесь уже нет переменной n (количества чисел в последовательности). Как пользователю надоест вводить числа, он должен ввести число ноль.\n",
    "\n",
    "Вместо n запрашиваем число a. Заводим переменную sm для ответа. Потом начинается ЦИКЛ while. Он будет выполняться (повторяться), пока условие, стоящие справа, истинное. Мы там прописываем, пока число a не равно нулю, мы продолжаем, иначе это окончание последовательности.\n",
    "\n",
    "Внутри ЦИКЛА проверяем число a согласно условию задачи.\n",
    "\n",
    "После проверки, запрашиваем новое число a (новый элемент последовательности)."
   ]
  },
  {
   "cell_type": "markdown",
   "id": "ff59666d-e6f5-4383-84a3-22a1d7803a24",
   "metadata": {},
   "source": [
    "**Задача 9 (Последовательность оканчивается нулём, закрепление)**\n",
    "\n",
    "Напишите программу, которая в последовательности натуральных чисел вычисляет количество всех чисел, оканчивающихся на 9. Программа получает на вход натуральные числа, количество введённых чисел неизвестно, последовательность чисел заканчивается числом 0 (0 – признак окончания ввода, не входит в последовательность). Количество чисел не превышает 1000. Введённые числа не превышают 30 000. Программа должна вывести одно число: количество всех чисел, оканчивающихся на 9.\n",
    "\n",
    "**Пример**\n",
    "| Входные данные  | Выходные данные     |\n",
    "|---- |---------|\n",
    "| 19|2|\n",
    "|45|  |\n",
    "|599|   |\n",
    "|11|   |\n",
    "|0||"
   ]
  },
  {
   "cell_type": "code",
   "execution_count": null,
   "id": "75b7c14d-4b6e-40b2-aac4-abe5a4bcfcfc",
   "metadata": {},
   "outputs": [],
   "source": [
    "#ПРЕДПОЛАГАЕМОЕ РЕШЕНИЕ"
   ]
  },
  {
   "cell_type": "markdown",
   "id": "2d9cf9e8-6d7b-4c20-a268-df4bac736de3",
   "metadata": {},
   "source": [
    "**Задача 10.** \n",
    "\n",
    "Напишите программу, которая в последовательности натуральных чисел определяет максимальное число, кратное 5. Программа получает на вход количество чисел в последовательности, а затем сами числа. В последовательности всегда имеется число, кратное 5. Количество чисел не превышает 1000. Введённые числа не превышают 30 000. Программа должна вывести одно число — максимальное число, кратное 5.\n",
    "\n",
    "Пример работы программы:\n",
    "| Входные данные  | Выходные данные     |\n",
    "|---- |---------|\n",
    "| 3| 25|\n",
    "|10|   |\n",
    "|25|   |\n",
    "|12|   |\n",
    "\n"
   ]
  },
  {
   "cell_type": "code",
   "execution_count": null,
   "id": "8568e041-5914-4ee5-8025-7612a665d654",
   "metadata": {},
   "outputs": [],
   "source": [
    "#ПРЕДПОЛАГАЕМОЕ РЕШЕНИЕ"
   ]
  },
  {
   "cell_type": "markdown",
   "id": "00dd291b-28e9-4739-81bb-f5da861843fb",
   "metadata": {},
   "source": [
    "**Задача 11.** \n",
    "\n",
    "Напишите программу, которая в последовательности натуральных чисел определяет сумму чисел, кратных 6. Программа получает на вход количество чисел в последовательности, а затем сами числа. В последовательности всегда имеется число, кратное 6. Количество чисел не превышает 100. Введенные числа не превышают 300. Программа должна вывести одно число  — сумму чисел, кратных 6.\n",
    "\n",
    "Пример работы программы:\n",
    "| Входные данные  | Выходные данные     |\n",
    "|---- |---------|\n",
    "| 3| 18|\n",
    "|12|   |\n",
    "|25|   |\n",
    "|6|   |"
   ]
  },
  {
   "cell_type": "code",
   "execution_count": null,
   "id": "28b3dc21-6662-4f17-820a-157fbd2c8be4",
   "metadata": {},
   "outputs": [],
   "source": [
    "#ПРЕДПОЛАГАЕМОЕ РЕШЕНИЕ"
   ]
  },
  {
   "cell_type": "code",
   "execution_count": 126,
   "id": "cd425656-9548-46f1-b61a-0955ae6cc4df",
   "metadata": {},
   "outputs": [
    {
     "name": "stdin",
     "output_type": "stream",
     "text": [
      " 3\n",
      " 12\n",
      " 25\n",
      " 6\n"
     ]
    },
    {
     "name": "stdout",
     "output_type": "stream",
     "text": [
      "18\n"
     ]
    }
   ],
   "source": [
    "#Решение\n",
    "n = int(input())\n",
    "sumi = 0\n",
    "for i in range(n):\n",
    "    a = int(input())\n",
    "    if a % 6 == 0:\n",
    "        sumi += a\n",
    "print(sumi)"
   ]
  },
  {
   "cell_type": "markdown",
   "id": "5293cb24-9f48-427e-9102-a254f66a3336",
   "metadata": {},
   "source": [
    "**Задача 12.**\n",
    "\n",
    "Напишите программу, которая в последовательности натуральных чисел определяет минимальное число, кратное 3. Программа получает на вход количество чисел в последовательности, а затем сами числа. В последовательности всегда имеется число, кратное 3. Количество чисел не превышает 1000. Введенные числа не превышают 30 000. Программа должна вывести одно число  — минимальное число, кратное 3\n",
    "Пример работы программы:\n",
    "| Входные данные  | Выходные данные     |\n",
    "|---- |---------|\n",
    "| 3|12|\n",
    "|21|   |\n",
    "|12|   |\n",
    "|31|   |"
   ]
  },
  {
   "cell_type": "code",
   "execution_count": null,
   "id": "cb4fbf3b-cf05-4537-ac1f-a2439eeccf3b",
   "metadata": {},
   "outputs": [],
   "source": [
    "#ПРЕДПОЛАГАЕМОЕ РЕШЕНИЕ"
   ]
  },
  {
   "cell_type": "markdown",
   "id": "30ad65a6-7362-44ac-891d-534edbe95f4a",
   "metadata": {},
   "source": [
    " **Задача 13.**\n",
    "\n",
    "Напишите программу, которая в последовательности натуральных чисел определяет минимальное число, оканчивающееся на 5. Программа получает на вход количество чисел в последовательности, а затем сами числа. В последовательности всегда имеется число, оканчивающееся на 6. Количество чисел не превышает 1000. Введенные числа не превышают 30 000. Программа должна вывести одно число  — минимальное число, оканчивающееся на 6.\n",
    "Пример работы программы:\n",
    "| Входные данные  | Выходные данные     |\n",
    "|---- |---------|\n",
    "| 3|15|\n",
    "|25|   |\n",
    "|15|   |\n",
    "|35|   |"
   ]
  },
  {
   "cell_type": "code",
   "execution_count": null,
   "id": "fca9887f-9e27-4007-8471-b79029cb1ebf",
   "metadata": {},
   "outputs": [],
   "source": [
    "#ПРЕДПОЛАГАЕМОЕ РЕШЕНИЕ"
   ]
  },
  {
   "cell_type": "markdown",
   "id": "2ad2ecdb-4b43-4324-8635-a3a39495eafe",
   "metadata": {},
   "source": [
    "**Задача 14.**\n",
    "\n",
    "Напишите программу, которая в последовательности натуральных чисел определяет сумму всех чисел, кратных 6 и оканчивающихся на 4. Программа получает на вход натуральные числа, количество введенных чисел неизвестно, последовательность чисел заканчивается числом 0 (0  — признак окончания ввода, не входит в последовательность). Количество чисел не превышает 1000. Введенные числа не превышают 30 000. Программа должна вывести одно число: сумму всех чисел, кратных 6 и оканчивающихся на 4.\n",
    "Пример работы программы:\n",
    "| Входные данные  | Выходные данные     |\n",
    "|---- |---------|\n",
    "| 14|168|\n",
    "|24|   |\n",
    "|144|   |\n",
    "|22|   |\n",
    "|12|   |\n",
    "|0|   |"
   ]
  },
  {
   "cell_type": "code",
   "execution_count": null,
   "id": "252f6b56-f2c4-4467-96c9-163a37465c3b",
   "metadata": {},
   "outputs": [],
   "source": [
    "#ПРЕДПОЛАГАЕМОЕ РЕШЕНИЕ"
   ]
  },
  {
   "cell_type": "markdown",
   "id": "071812f2-eefd-46a7-b21e-00dfb90aeff7",
   "metadata": {},
   "source": [
    "**Задача 15.**\n",
    "\n",
    "Напишите программу для решения следующей задачи. Камера наблюдения регистрирует в автоматическом режиме скорость проезжающих мимо нее автомобилей, округляя значения скорости до целых чисел. Необходимо определить максимальную зарегистрированную скорость автомобиля. Если скорость хотя бы одного автомобиля была меньше 30 км/ч, выведите «YES», иначе выведите «N0».\n",
    "\n",
    "Программа получает на вход число проехавших автомобилей N (1 < N < 30), затем указываются их скорости. Значение скорости не может быть меньше 1 и больше 300.Программа должна сначала вывести максимальную скорость, затем YES или NO.\n",
    "Пример работы программы:\n",
    "| Входные данные  | Выходные данные     |\n",
    "|---- |---------|\n",
    "| 4|74|\n",
    "|74| NO|\n",
    "|69|   |\n",
    "|63|   |\n",
    "|66|   |\n"
   ]
  },
  {
   "cell_type": "code",
   "execution_count": null,
   "id": "bbf5efc5-5c7e-411c-8477-3cc9f4e0e374",
   "metadata": {},
   "outputs": [],
   "source": [
    "#ПРЕДПОЛАГАЕМОЕ РЕШЕНИЕ"
   ]
  },
  {
   "cell_type": "code",
   "execution_count": 128,
   "id": "8e77cd97-b258-433f-b6fd-03f531c23422",
   "metadata": {},
   "outputs": [
    {
     "name": "stdin",
     "output_type": "stream",
     "text": [
      " 4\n",
      " 74\n",
      " 69\n",
      " 63\n",
      " 66\n"
     ]
    },
    {
     "name": "stdout",
     "output_type": "stream",
     "text": [
      "74\n",
      "NO\n"
     ]
    }
   ],
   "source": [
    "max = 0\n",
    "b = False\n",
    "n = int(input())\n",
    "for i in range(n):\n",
    "    a = int(input())\n",
    "    if a > max:\n",
    "        max = a\n",
    "    if a < 30:\n",
    "        b = True\n",
    "print(max)\n",
    "if b == True:\n",
    "    print('YES')\n",
    "else:\n",
    "    print('NO')"
   ]
  },
  {
   "cell_type": "markdown",
   "id": "1cb65f5f-bd4e-4d9e-a34a-da93a698b15f",
   "metadata": {},
   "source": [
    "**Задача 16.**\n",
    "\n",
    "Напишите программу для решения следующей задачи. Камера наблюдения регистрирует в автоматическом режиме скорость проезжающих мимо нее автомобилей, округляя значения скорости до целых чисел. Необходимо определить:\n",
    "\n",
    "1)  разность максимальной и минимальной скоростей автомобилей;\n",
    "\n",
    "2)  количество автомобилей, скорость которых не превышала 30 км/ч.\n",
    "\n",
    "Программа получает на вход число проехавших автомобилей N (1 ≤ N ≤ 30), затем указываются их скорости. Значение скорости не может быть меньше 1 и больше 300. Программа должна сначала вывести разность максимальной и минимальной скоростей автомобилей, затем количество автомобилей, скорость которых не превышала 30 км/ч.\n",
    "Пример работы программы:\n",
    "| Входные данные  | Выходные данные     |\n",
    "|---- |---------|\n",
    "| 4|33|\n",
    "|74| 0|\n",
    "|69|   |\n",
    "|63|   |\n",
    "|96|   |"
   ]
  },
  {
   "cell_type": "code",
   "execution_count": null,
   "id": "9173911a-adb1-4217-949a-42f6248109ec",
   "metadata": {},
   "outputs": [],
   "source": [
    "#ПРЕДПОЛАГАЕМОЕ РЕШЕНИЕ"
   ]
  },
  {
   "cell_type": "markdown",
   "id": "dbc77a48-5db9-4ba4-9973-77014bd4fd5d",
   "metadata": {},
   "source": [
    "**Задача 17.**\n",
    "\n",
    "Напишите программу, которая в последовательности целых чисел определяет их количество и подсчитывает сумму положительных четных чисел, не превосходящих 256. Программа получает на вход целые числа, количество введенных чисел неизвестно, последовательность чисел заканчивается числом 0 (0  — признак окончания ввода, не входит в последовательность).\n",
    "\n",
    "Количество чисел не превышает 1000. Введенные числа по модулю не превышают 30 000. Программа должна вывести два числа: длину последовательности и сумму положительных четных чисел, не превосходящих 256.\n",
    "Пример работы программы:\n",
    "| Входные данные  | Выходные данные     |\n",
    "|---- |---------|\n",
    "|-20|5|\n",
    "|6|106|\n",
    "|1000||\n",
    "|100||\n",
    "|-200||\n",
    "|0||"
   ]
  },
  {
   "cell_type": "code",
   "execution_count": null,
   "id": "f0972a95-81ba-4d08-8996-0812b6dad23d",
   "metadata": {},
   "outputs": [],
   "source": []
  }
 ],
 "metadata": {
  "kernelspec": {
   "display_name": "Python 3 (ipykernel)",
   "language": "python",
   "name": "python3"
  },
  "language_info": {
   "codemirror_mode": {
    "name": "ipython",
    "version": 3
   },
   "file_extension": ".py",
   "mimetype": "text/x-python",
   "name": "python",
   "nbconvert_exporter": "python",
   "pygments_lexer": "ipython3",
   "version": "3.10.12"
  }
 },
 "nbformat": 4,
 "nbformat_minor": 5
}
